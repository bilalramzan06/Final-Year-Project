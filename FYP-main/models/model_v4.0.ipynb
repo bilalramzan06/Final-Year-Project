{
 "cells": [
  {
   "cell_type": "code",
   "execution_count": 1,
   "metadata": {},
   "outputs": [],
   "source": [
    "import pandas as pd\n",
    "import numpy as np\n",
    "from sklearn.model_selection import train_test_split\n",
    "from tensorflow.keras.models import Sequential\n",
    "from tensorflow.keras.optimizers import Adam\n",
    "from tensorflow.keras.layers import Conv1D, MaxPooling1D, Flatten, Dense, Dropout, BatchNormalization\n",
    "from tensorflow.keras.callbacks import ReduceLROnPlateau\n",
    "from sklearn.preprocessing import MinMaxScaler\n",
    "from sklearn.metrics import classification_report\n",
    "from sklearn.preprocessing import LabelEncoder"
   ]
  },
  {
   "cell_type": "code",
   "execution_count": 2,
   "metadata": {},
   "outputs": [],
   "source": [
    "import pandas as pd\n",
    "import numpy as np\n",
    "from sklearn.preprocessing import StandardScaler\n",
    "\n",
    "# Load data from output_labels.csv\n",
    "csv_path = 'D:\\\\Semester 7\\\\FYP\\\\preprocessing\\\\output_labels.csv'\n",
    "df = pd.read_csv(csv_path)\n",
    "\n",
    "# Extract file paths and class labels\n",
    "file_paths = df['Path'].values\n",
    "class_labels = df['Class'].values"
   ]
  },
  {
   "cell_type": "code",
   "execution_count": 3,
   "metadata": {},
   "outputs": [],
   "source": [
    "from scipy.stats import skew, kurtosis\n",
    "from scipy.signal import find_peaks\n",
    "\n",
    "ecg_features = []\n",
    "for path in file_paths:\n",
    "    # Load ECG data from CSV file\n",
    "    ecg_df = pd.read_csv(path)\n",
    "    # Assuming your ECG data is in columns I, II, III, AVR, AVL, AVF, V1, V2, V3, V4, V5, V6\n",
    "    ecg_values = ecg_df[['I', 'II', 'III', 'AVR', 'AVL',\n",
    "                         'AVF', 'V1', 'V2', 'V3', 'V4', 'V5', 'V6']].values\n",
    "    # Extract features from the ECG data\n",
    "    ecg_mean = np.mean(ecg_values, axis=0)\n",
    "    ecg_std = np.std(ecg_values, axis=0)\n",
    "    ecg_median = np.median(ecg_values, axis=0)\n",
    "    ecg_variance = np.var(ecg_values, axis=0)\n",
    "    ecg_skewness = skew(ecg_values, axis=0)\n",
    "    ecg_kurtosis = kurtosis(ecg_values, axis=0)\n",
    "    ecg_peak_to_peak = np.ptp(ecg_values, axis=0)\n",
    "    ecg_rms = np.sqrt(np.mean(np.square(ecg_values), axis=0))\n",
    "    # Concatenate features\n",
    "    ecg_features.append(np.concatenate([ecg_mean, ecg_std, ecg_median, ecg_variance, ecg_skewness, ecg_kurtosis, ecg_peak_to_peak, ecg_rms]))\n",
    "\n",
    "X = np.array(ecg_features)\n",
    "y = np.array(class_labels)\n",
    "\n",
    "# Optionally, scale the features using StandardScaler\n",
    "scaler = StandardScaler()\n",
    "X_scaled = scaler.fit_transform(X)"
   ]
  },
  {
   "cell_type": "code",
   "execution_count": 4,
   "metadata": {},
   "outputs": [
    {
     "name": "stdout",
     "output_type": "stream",
     "text": [
      "(5000, 96)\n"
     ]
    }
   ],
   "source": [
    "print(X.shape)"
   ]
  },
  {
   "cell_type": "code",
   "execution_count": 5,
   "metadata": {},
   "outputs": [
    {
     "name": "stdout",
     "output_type": "stream",
     "text": [
      "(5000,)\n"
     ]
    }
   ],
   "source": [
    "print(y.shape)"
   ]
  },
  {
   "cell_type": "code",
   "execution_count": 6,
   "metadata": {},
   "outputs": [
    {
     "name": "stdout",
     "output_type": "stream",
     "text": [
      "['NORM' 'NORM' 'NORM' ... 'HYP' 'HYP' 'HYP']\n"
     ]
    }
   ],
   "source": [
    "print(y)"
   ]
  },
  {
   "cell_type": "code",
   "execution_count": 7,
   "metadata": {},
   "outputs": [],
   "source": [
    "# Assuming you have already loaded and preprocessed your data into X and y\n",
    "\n",
    "# Split the data into training and testing sets\n",
    "X_train, X_test, y_train, y_test = train_test_split(X, y, test_size=0.2, random_state=42)\n",
    "\n"
   ]
  },
  {
   "cell_type": "code",
   "execution_count": 106,
   "metadata": {},
   "outputs": [
    {
     "name": "stdout",
     "output_type": "stream",
     "text": [
      "['CD' 'HYP' 'CD' ... 'CD' 'STTC' 'NORM']\n"
     ]
    }
   ],
   "source": [
    "print(y_train)"
   ]
  },
  {
   "cell_type": "code",
   "execution_count": 96,
   "metadata": {},
   "outputs": [
    {
     "name": "stdout",
     "output_type": "stream",
     "text": [
      "['STTC' 'CD' 'STTC' 'STTC' 'NORM' 'NORM' 'NORM' 'MI' 'CD' 'NORM' 'MI'\n",
      " 'NORM' 'HYP' 'NORM' 'HYP' 'STTC' 'HYP' 'MI' 'CD' 'NORM' 'STTC' 'HYP'\n",
      " 'NORM' 'STTC' 'HYP' 'MI' 'STTC' 'NORM' 'HYP' 'MI' 'STTC' 'NORM' 'HYP'\n",
      " 'HYP' 'NORM' 'STTC' 'STTC' 'CD' 'HYP' 'STTC' 'STTC' 'HYP' 'NORM' 'NORM'\n",
      " 'STTC' 'CD' 'STTC' 'HYP' 'HYP' 'HYP' 'HYP' 'HYP' 'HYP' 'STTC' 'MI' 'MI'\n",
      " 'NORM' 'NORM' 'NORM' 'MI' 'MI' 'HYP' 'CD' 'HYP' 'STTC' 'HYP' 'HYP' 'MI'\n",
      " 'CD' 'HYP' 'MI' 'NORM' 'NORM' 'STTC' 'NORM' 'MI' 'NORM' 'MI' 'CD' 'CD'\n",
      " 'MI' 'MI' 'CD' 'MI' 'MI' 'NORM' 'NORM' 'NORM' 'HYP' 'HYP' 'STTC' 'NORM'\n",
      " 'NORM' 'NORM' 'STTC' 'HYP' 'CD' 'STTC' 'NORM' 'NORM' 'CD' 'NORM' 'STTC'\n",
      " 'HYP' 'NORM' 'MI' 'CD' 'NORM' 'CD' 'NORM' 'CD' 'MI' 'STTC' 'STTC' 'MI'\n",
      " 'STTC' 'HYP' 'MI' 'NORM' 'CD' 'MI' 'CD' 'HYP' 'NORM' 'CD' 'HYP' 'HYP'\n",
      " 'HYP' 'STTC' 'STTC' 'HYP' 'CD' 'HYP' 'CD' 'STTC' 'STTC' 'CD' 'STTC'\n",
      " 'NORM' 'NORM' 'HYP' 'HYP' 'HYP' 'HYP' 'CD' 'MI' 'HYP' 'HYP' 'STTC' 'MI'\n",
      " 'MI' 'STTC' 'HYP' 'HYP' 'HYP' 'NORM' 'STTC' 'HYP' 'CD' 'MI' 'STTC' 'CD'\n",
      " 'HYP' 'NORM' 'NORM' 'STTC' 'NORM' 'NORM' 'STTC' 'MI' 'STTC' 'CD' 'MI'\n",
      " 'MI' 'STTC' 'MI' 'STTC' 'CD' 'NORM' 'STTC' 'HYP' 'MI' 'MI' 'MI' 'STTC'\n",
      " 'CD' 'HYP' 'STTC' 'MI' 'MI' 'NORM' 'STTC' 'CD' 'HYP' 'CD' 'HYP' 'NORM'\n",
      " 'CD' 'CD' 'HYP' 'CD' 'NORM' 'CD' 'CD' 'HYP' 'MI' 'HYP' 'STTC' 'CD' 'NORM'\n",
      " 'CD' 'MI' 'HYP' 'MI' 'CD' 'STTC' 'HYP' 'MI' 'HYP' 'MI' 'NORM' 'MI' 'HYP'\n",
      " 'STTC' 'CD' 'HYP' 'STTC' 'MI' 'STTC' 'MI' 'CD' 'STTC' 'NORM' 'HYP' 'NORM'\n",
      " 'STTC' 'CD' 'CD' 'STTC' 'HYP' 'HYP' 'NORM' 'HYP' 'HYP' 'STTC' 'NORM'\n",
      " 'HYP' 'CD' 'STTC' 'HYP' 'HYP' 'CD' 'MI' 'STTC' 'MI' 'NORM' 'CD' 'MI'\n",
      " 'NORM' 'HYP' 'STTC' 'MI' 'MI' 'HYP' 'NORM' 'HYP' 'MI' 'STTC' 'STTC' 'CD'\n",
      " 'STTC' 'CD' 'HYP' 'NORM' 'MI' 'CD' 'NORM' 'HYP' 'STTC' 'NORM' 'HYP' 'HYP'\n",
      " 'MI' 'NORM' 'NORM' 'CD' 'NORM' 'HYP' 'CD' 'MI' 'NORM' 'MI' 'STTC' 'CD'\n",
      " 'MI' 'NORM' 'MI' 'CD' 'HYP' 'NORM' 'HYP' 'STTC' 'STTC' 'NORM' 'CD' 'HYP'\n",
      " 'HYP' 'MI' 'HYP' 'MI' 'CD' 'STTC' 'MI' 'HYP' 'NORM' 'STTC' 'CD' 'STTC'\n",
      " 'HYP' 'STTC' 'HYP' 'HYP' 'MI' 'HYP' 'CD' 'NORM' 'STTC' 'STTC' 'STTC' 'CD'\n",
      " 'STTC' 'NORM' 'CD' 'MI' 'STTC' 'STTC' 'NORM' 'CD' 'CD' 'CD' 'CD' 'STTC'\n",
      " 'NORM' 'MI' 'STTC' 'STTC' 'HYP' 'CD' 'CD' 'MI' 'CD' 'STTC' 'STTC' 'HYP'\n",
      " 'HYP' 'STTC' 'MI' 'NORM' 'MI' 'STTC' 'NORM' 'HYP' 'CD' 'MI' 'NORM' 'MI'\n",
      " 'NORM' 'NORM' 'HYP' 'CD' 'CD' 'HYP' 'NORM' 'HYP' 'MI' 'STTC' 'STTC' 'MI'\n",
      " 'CD' 'CD' 'CD' 'HYP' 'STTC' 'MI' 'NORM' 'STTC' 'HYP' 'NORM' 'NORM' 'MI'\n",
      " 'NORM' 'HYP' 'MI' 'NORM' 'NORM' 'STTC' 'NORM' 'NORM' 'STTC' 'MI' 'NORM'\n",
      " 'CD' 'STTC' 'STTC' 'STTC' 'MI' 'STTC' 'HYP' 'NORM' 'STTC' 'NORM' 'MI'\n",
      " 'STTC' 'NORM' 'CD' 'HYP' 'NORM' 'HYP' 'MI' 'STTC' 'CD' 'STTC' 'STTC'\n",
      " 'NORM' 'MI' 'HYP' 'STTC' 'MI' 'HYP' 'NORM' 'NORM' 'HYP' 'MI' 'HYP' 'CD'\n",
      " 'MI' 'HYP' 'STTC' 'NORM' 'MI' 'STTC' 'NORM' 'STTC' 'MI' 'NORM' 'NORM'\n",
      " 'CD' 'HYP' 'NORM' 'NORM' 'MI' 'HYP' 'HYP' 'MI' 'HYP' 'STTC' 'CD' 'MI'\n",
      " 'STTC' 'MI' 'NORM' 'NORM' 'CD' 'MI' 'MI' 'CD' 'CD' 'HYP' 'HYP' 'HYP' 'MI'\n",
      " 'MI' 'STTC' 'MI' 'CD' 'STTC' 'MI' 'MI' 'MI' 'NORM' 'CD' 'CD' 'MI' 'CD'\n",
      " 'CD' 'HYP' 'CD' 'CD' 'NORM' 'MI' 'NORM' 'HYP' 'MI' 'MI' 'NORM' 'STTC'\n",
      " 'MI' 'CD' 'NORM' 'STTC' 'STTC' 'CD' 'CD' 'CD' 'NORM' 'NORM' 'STTC' 'NORM'\n",
      " 'NORM' 'HYP' 'STTC' 'HYP' 'CD' 'NORM' 'NORM' 'CD' 'STTC' 'NORM' 'NORM'\n",
      " 'CD' 'CD' 'CD' 'NORM' 'CD' 'MI' 'CD' 'CD' 'MI' 'CD' 'HYP' 'MI' 'STTC'\n",
      " 'STTC' 'NORM' 'HYP' 'HYP' 'CD' 'STTC' 'MI' 'HYP' 'HYP' 'HYP' 'NORM' 'HYP'\n",
      " 'HYP' 'MI' 'STTC' 'HYP' 'STTC' 'MI' 'STTC' 'CD' 'CD' 'CD' 'STTC' 'NORM'\n",
      " 'CD' 'HYP' 'HYP' 'MI' 'CD' 'STTC' 'MI' 'MI' 'NORM' 'HYP' 'CD' 'MI' 'CD'\n",
      " 'CD' 'HYP' 'CD' 'HYP' 'MI' 'NORM' 'HYP' 'NORM' 'HYP' 'STTC' 'STTC' 'CD'\n",
      " 'HYP' 'HYP' 'CD' 'MI' 'CD' 'HYP' 'STTC' 'MI' 'HYP' 'CD' 'NORM' 'CD' 'HYP'\n",
      " 'HYP' 'MI' 'STTC' 'STTC' 'MI' 'STTC' 'NORM' 'HYP' 'NORM' 'HYP' 'HYP'\n",
      " 'STTC' 'NORM' 'MI' 'CD' 'HYP' 'NORM' 'HYP' 'NORM' 'STTC' 'CD' 'MI' 'NORM'\n",
      " 'MI' 'NORM' 'MI' 'STTC' 'STTC' 'MI' 'MI' 'CD' 'HYP' 'HYP' 'MI' 'MI'\n",
      " 'NORM' 'NORM' 'STTC' 'NORM' 'MI' 'MI' 'NORM' 'MI' 'CD' 'HYP' 'HYP' 'STTC'\n",
      " 'STTC' 'HYP' 'STTC' 'HYP' 'STTC' 'MI' 'CD' 'NORM' 'STTC' 'STTC' 'MI'\n",
      " 'HYP' 'MI' 'CD' 'CD' 'CD' 'NORM' 'STTC' 'NORM' 'NORM' 'NORM' 'CD' 'MI'\n",
      " 'MI' 'HYP' 'NORM' 'HYP' 'STTC' 'NORM' 'HYP' 'NORM' 'NORM' 'NORM' 'CD'\n",
      " 'CD' 'STTC' 'CD' 'STTC' 'MI' 'STTC' 'CD' 'CD' 'HYP' 'STTC' 'HYP' 'NORM'\n",
      " 'STTC' 'HYP' 'HYP' 'CD' 'HYP' 'HYP' 'MI' 'HYP' 'STTC' 'NORM' 'NORM' 'CD'\n",
      " 'STTC' 'HYP' 'CD' 'MI' 'HYP' 'HYP' 'HYP' 'MI' 'STTC' 'CD' 'CD' 'STTC'\n",
      " 'NORM' 'STTC' 'CD' 'MI' 'STTC' 'CD' 'MI' 'NORM' 'HYP' 'STTC' 'NORM' 'CD'\n",
      " 'STTC' 'MI' 'HYP' 'NORM' 'MI' 'CD' 'MI' 'HYP' 'HYP' 'STTC' 'CD' 'HYP'\n",
      " 'HYP' 'NORM' 'STTC' 'CD' 'NORM' 'MI' 'MI' 'STTC' 'CD' 'HYP' 'STTC' 'NORM'\n",
      " 'NORM' 'STTC' 'HYP' 'MI' 'MI' 'HYP' 'HYP' 'CD' 'MI' 'STTC' 'MI' 'CD' 'CD'\n",
      " 'CD' 'NORM' 'MI' 'MI' 'CD' 'NORM' 'MI' 'STTC' 'CD' 'MI' 'CD' 'MI' 'NORM'\n",
      " 'STTC' 'STTC' 'CD' 'NORM' 'CD' 'NORM' 'CD' 'MI' 'MI' 'CD' 'MI' 'CD' 'CD'\n",
      " 'STTC' 'CD' 'MI' 'NORM' 'STTC' 'HYP' 'HYP' 'NORM' 'HYP' 'MI' 'NORM' 'CD'\n",
      " 'HYP' 'NORM' 'MI' 'NORM' 'MI' 'NORM' 'HYP' 'STTC' 'MI' 'HYP' 'NORM' 'HYP'\n",
      " 'HYP' 'NORM' 'NORM' 'STTC' 'CD' 'CD' 'HYP' 'STTC' 'HYP' 'STTC' 'NORM'\n",
      " 'HYP' 'CD' 'HYP' 'CD' 'HYP' 'HYP' 'STTC' 'CD' 'STTC' 'CD' 'STTC' 'NORM'\n",
      " 'HYP' 'CD' 'MI' 'HYP' 'NORM' 'MI' 'STTC' 'HYP' 'NORM' 'NORM' 'MI' 'NORM'\n",
      " 'HYP' 'STTC' 'HYP' 'HYP' 'HYP' 'CD' 'NORM' 'MI' 'CD' 'HYP' 'NORM' 'NORM'\n",
      " 'NORM' 'CD' 'MI' 'STTC' 'CD' 'CD' 'HYP' 'CD' 'STTC' 'CD' 'CD' 'STTC'\n",
      " 'HYP' 'CD' 'NORM' 'NORM' 'HYP' 'STTC' 'MI' 'CD' 'MI' 'CD' 'NORM' 'STTC'\n",
      " 'NORM' 'CD' 'STTC' 'NORM' 'NORM' 'HYP' 'HYP' 'STTC' 'CD' 'STTC' 'HYP'\n",
      " 'CD' 'MI' 'HYP' 'MI' 'MI' 'CD' 'MI' 'HYP' 'NORM' 'MI' 'CD' 'CD' 'HYP'\n",
      " 'NORM' 'STTC' 'MI' 'MI' 'HYP' 'STTC' 'HYP' 'STTC' 'MI' 'CD' 'STTC' 'HYP'\n",
      " 'HYP' 'CD' 'NORM' 'HYP' 'STTC' 'CD' 'STTC' 'CD' 'HYP' 'STTC' 'HYP' 'NORM'\n",
      " 'MI' 'NORM' 'HYP' 'NORM' 'NORM' 'CD' 'STTC' 'CD' 'MI' 'NORM' 'HYP' 'CD'\n",
      " 'STTC' 'HYP' 'NORM' 'HYP' 'MI' 'NORM' 'HYP' 'STTC' 'MI' 'HYP' 'HYP' 'MI'\n",
      " 'CD' 'NORM' 'NORM' 'NORM' 'CD' 'HYP' 'HYP' 'MI' 'MI' 'CD' 'CD' 'STTC'\n",
      " 'HYP' 'NORM' 'NORM' 'STTC' 'CD' 'STTC' 'NORM' 'NORM' 'HYP' 'MI' 'MI'\n",
      " 'STTC' 'STTC' 'STTC' 'HYP' 'NORM' 'NORM' 'HYP' 'MI' 'MI' 'STTC' 'HYP'\n",
      " 'NORM' 'HYP' 'HYP' 'MI' 'CD' 'CD' 'MI' 'CD' 'HYP' 'MI' 'HYP' 'CD' 'CD']\n"
     ]
    }
   ],
   "source": [
    "print(y_test)"
   ]
  },
  {
   "cell_type": "code",
   "execution_count": 51,
   "metadata": {},
   "outputs": [],
   "source": [
    "# # Initialize LabelEncoder\n",
    "# label_encoder = LabelEncoder()\n",
    "\n",
    "# # Fit and transform labels for training data\n",
    "# y_train_encoded = label_encoder.fit_transform(y_train)\n",
    "\n",
    "# # Transform labels for test data (using the same encoder from training data)\n",
    "# y_test_encoded = label_encoder.transform(y_test)"
   ]
  },
  {
   "cell_type": "code",
   "execution_count": 8,
   "metadata": {},
   "outputs": [],
   "source": [
    "from sklearn.preprocessing import LabelEncoder\n",
    "\n",
    "# Initialize the label encoder\n",
    "le = LabelEncoder()\n",
    "\n",
    "# Fit the label encoder and transform the labels\n",
    "y_train = le.fit_transform(y_train)\n",
    "y_test = le.transform(y_test)"
   ]
  },
  {
   "cell_type": "code",
   "execution_count": 9,
   "metadata": {},
   "outputs": [
    {
     "name": "stdout",
     "output_type": "stream",
     "text": [
      "['CD' 'HYP' 'MI' 'NORM' 'STTC']\n"
     ]
    }
   ],
   "source": [
    "print(le.classes_)"
   ]
  },
  {
   "cell_type": "code",
   "execution_count": 10,
   "metadata": {},
   "outputs": [
    {
     "name": "stdout",
     "output_type": "stream",
     "text": [
      "[0 1 0 ... 0 4 3]\n"
     ]
    }
   ],
   "source": [
    "print(y_train)"
   ]
  },
  {
   "cell_type": "code",
   "execution_count": 11,
   "metadata": {},
   "outputs": [
    {
     "name": "stdout",
     "output_type": "stream",
     "text": [
      "[4 0 4 4 3 3 3 2 0 3 2 3 1 3 1 4 1 2 0 3 4 1 3 4 1 2 4 3 1 2 4 3 1 1 3 4 4\n",
      " 0 1 4 4 1 3 3 4 0 4 1 1 1 1 1 1 4 2 2 3 3 3 2 2 1 0 1 4 1 1 2 0 1 2 3 3 4\n",
      " 3 2 3 2 0 0 2 2 0 2 2 3 3 3 1 1 4 3 3 3 4 1 0 4 3 3 0 3 4 1 3 2 0 3 0 3 0\n",
      " 2 4 4 2 4 1 2 3 0 2 0 1 3 0 1 1 1 4 4 1 0 1 0 4 4 0 4 3 3 1 1 1 1 0 2 1 1\n",
      " 4 2 2 4 1 1 1 3 4 1 0 2 4 0 1 3 3 4 3 3 4 2 4 0 2 2 4 2 4 0 3 4 1 2 2 2 4\n",
      " 0 1 4 2 2 3 4 0 1 0 1 3 0 0 1 0 3 0 0 1 2 1 4 0 3 0 2 1 2 0 4 1 2 1 2 3 2\n",
      " 1 4 0 1 4 2 4 2 0 4 3 1 3 4 0 0 4 1 1 3 1 1 4 3 1 0 4 1 1 0 2 4 2 3 0 2 3\n",
      " 1 4 2 2 1 3 1 2 4 4 0 4 0 1 3 2 0 3 1 4 3 1 1 2 3 3 0 3 1 0 2 3 2 4 0 2 3\n",
      " 2 0 1 3 1 4 4 3 0 1 1 2 1 2 0 4 2 1 3 4 0 4 1 4 1 1 2 1 0 3 4 4 4 0 4 3 0\n",
      " 2 4 4 3 0 0 0 0 4 3 2 4 4 1 0 0 2 0 4 4 1 1 4 2 3 2 4 3 1 0 2 3 2 3 3 1 0\n",
      " 0 1 3 1 2 4 4 2 0 0 0 1 4 2 3 4 1 3 3 2 3 1 2 3 3 4 3 3 4 2 3 0 4 4 4 2 4\n",
      " 1 3 4 3 2 4 3 0 1 3 1 2 4 0 4 4 3 2 1 4 2 1 3 3 1 2 1 0 2 1 4 3 2 4 3 4 2\n",
      " 3 3 0 1 3 3 2 1 1 2 1 4 0 2 4 2 3 3 0 2 2 0 0 1 1 1 2 2 4 2 0 4 2 2 2 3 0\n",
      " 0 2 0 0 1 0 0 3 2 3 1 2 2 3 4 2 0 3 4 4 0 0 0 3 3 4 3 3 1 4 1 0 3 3 0 4 3\n",
      " 3 0 0 0 3 0 2 0 0 2 0 1 2 4 4 3 1 1 0 4 2 1 1 1 3 1 1 2 4 1 4 2 4 0 0 0 4\n",
      " 3 0 1 1 2 0 4 2 2 3 1 0 2 0 0 1 0 1 2 3 1 3 1 4 4 0 1 1 0 2 0 1 4 2 1 0 3\n",
      " 0 1 1 2 4 4 2 4 3 1 3 1 1 4 3 2 0 1 3 1 3 4 0 2 3 2 3 2 4 4 2 2 0 1 1 2 2\n",
      " 3 3 4 3 2 2 3 2 0 1 1 4 4 1 4 1 4 2 0 3 4 4 2 1 2 0 0 0 3 4 3 3 3 0 2 2 1\n",
      " 3 1 4 3 1 3 3 3 0 0 4 0 4 2 4 0 0 1 4 1 3 4 1 1 0 1 1 2 1 4 3 3 0 4 1 0 2\n",
      " 1 1 1 2 4 0 0 4 3 4 0 2 4 0 2 3 1 4 3 0 4 2 1 3 2 0 2 1 1 4 0 1 1 3 4 0 3\n",
      " 2 2 4 0 1 4 3 3 4 1 2 2 1 1 0 2 4 2 0 0 0 3 2 2 0 3 2 4 0 2 0 2 3 4 4 0 3\n",
      " 0 3 0 2 2 0 2 0 0 4 0 2 3 4 1 1 3 1 2 3 0 1 3 2 3 2 3 1 4 2 1 3 1 1 3 3 4\n",
      " 0 0 1 4 1 4 3 1 0 1 0 1 1 4 0 4 0 4 3 1 0 2 1 3 2 4 1 3 3 2 3 1 4 1 1 1 0\n",
      " 3 2 0 1 3 3 3 0 2 4 0 0 1 0 4 0 0 4 1 0 3 3 1 4 2 0 2 0 3 4 3 0 4 3 3 1 1\n",
      " 4 0 4 1 0 2 1 2 2 0 2 1 3 2 0 0 1 3 4 2 2 1 4 1 4 2 0 4 1 1 0 3 1 4 0 4 0\n",
      " 1 4 1 3 2 3 1 3 3 0 4 0 2 3 1 0 4 1 3 1 2 3 1 4 2 1 1 2 0 3 3 3 0 1 1 2 2\n",
      " 0 0 4 1 3 3 4 0 4 3 3 1 2 2 4 4 4 1 3 3 1 2 2 4 1 3 1 1 2 0 0 2 0 1 2 1 0\n",
      " 0]\n"
     ]
    }
   ],
   "source": [
    "print(y_test)"
   ]
  },
  {
   "cell_type": "code",
   "execution_count": 12,
   "metadata": {},
   "outputs": [
    {
     "name": "stdout",
     "output_type": "stream",
     "text": [
      "[0 1 0 ... 0 4 3]\n"
     ]
    }
   ],
   "source": [
    "print(y_train)"
   ]
  },
  {
   "cell_type": "code",
   "execution_count": 15,
   "metadata": {},
   "outputs": [],
   "source": [
    "from sklearn.preprocessing import MinMaxScaler\n",
    "\n",
    "# Assuming X_train and X_test are already defined and contain your data\n",
    "\n",
    "# Reshape data back to 2 dimensions for MinMaxScaler\n",
    "X_train_flat = X_train.reshape(X_train.shape[0], -1)\n",
    "X_test_flat = X_test.reshape(X_test.shape[0], -1)\n",
    "\n",
    "# Initialize MinMaxScaler\n",
    "scaler = MinMaxScaler()\n",
    "\n",
    "# Fit and transform on flattened training data\n",
    "X_train_scaled = scaler.fit_transform(X_train_flat)\n",
    "\n",
    "# Transform flattened test data (using the same scaler from training data)\n",
    "X_test_scaled = scaler.transform(X_test_flat)\n",
    "\n",
    "# Reshape data for Conv1D model\n",
    "# Reshape data for Conv1D model\n",
    "X_train_reshaped = X_train_scaled.reshape(X_train.shape[0], X_train.shape[1], 1)\n",
    "X_test_reshaped = X_test_scaled.reshape(X_test.shape[0], X_test.shape[1], 1)\n"
   ]
  },
  {
   "cell_type": "code",
   "execution_count": 16,
   "metadata": {},
   "outputs": [
    {
     "name": "stdout",
     "output_type": "stream",
     "text": [
      "384000\n"
     ]
    }
   ],
   "source": [
    "total_elements = X_train.size\n",
    "print(total_elements)"
   ]
  },
  {
   "cell_type": "code",
   "execution_count": 17,
   "metadata": {},
   "outputs": [
    {
     "name": "stdout",
     "output_type": "stream",
     "text": [
      "96000\n"
     ]
    }
   ],
   "source": [
    "total_elements_test = X_test.size\n",
    "print(total_elements_test)"
   ]
  },
  {
   "cell_type": "code",
   "execution_count": 18,
   "metadata": {},
   "outputs": [
    {
     "name": "stdout",
     "output_type": "stream",
     "text": [
      "96\n"
     ]
    }
   ],
   "source": [
    "num_features = X_train.shape[1]\n",
    "print(num_features)"
   ]
  },
  {
   "cell_type": "code",
   "execution_count": 19,
   "metadata": {},
   "outputs": [
    {
     "name": "stdout",
     "output_type": "stream",
     "text": [
      "4000\n"
     ]
    }
   ],
   "source": [
    "num_samples = X_train.shape[0]\n",
    "print(num_samples)"
   ]
  },
  {
   "cell_type": "code",
   "execution_count": 20,
   "metadata": {},
   "outputs": [
    {
     "name": "stdout",
     "output_type": "stream",
     "text": [
      "(1000, 96)\n"
     ]
    }
   ],
   "source": [
    "print(X_test.shape)"
   ]
  },
  {
   "cell_type": "code",
   "execution_count": 21,
   "metadata": {},
   "outputs": [
    {
     "name": "stdout",
     "output_type": "stream",
     "text": [
      "(4000, 96)\n"
     ]
    }
   ],
   "source": [
    "print(X_train.shape)"
   ]
  },
  {
   "cell_type": "code",
   "execution_count": 22,
   "metadata": {},
   "outputs": [],
   "source": [
    "# Reshape data for Conv1D model\n",
    "# Reshape data for Conv1D model\n",
    "X_train_reshaped = X_train_scaled.reshape(X_train.shape[0], X_train.shape[1], 1)\n",
    "X_test_reshaped = X_test_scaled.reshape(X_test.shape[0], X_test.shape[1], 1)\n"
   ]
  },
  {
   "cell_type": "code",
   "execution_count": 28,
   "metadata": {},
   "outputs": [
    {
     "name": "stderr",
     "output_type": "stream",
     "text": [
      "c:\\Program Files\\Python312\\Lib\\site-packages\\keras\\src\\layers\\convolutional\\base_conv.py:99: UserWarning: Do not pass an `input_shape`/`input_dim` argument to a layer. When using Sequential models, prefer using an `Input(shape)` object as the first layer in the model instead.\n",
      "  super().__init__(\n"
     ]
    }
   ],
   "source": [
    "# Model architecture\n",
    "model = Sequential()\n",
    "model.add(Conv1D(filters=32, kernel_size=5, activation='relu', input_shape=(X_train_reshaped.shape[1], X_train_reshaped.shape[2])))\n",
    "model.add(BatchNormalization())\n",
    "model.add(MaxPooling1D(pool_size=2))\n",
    "model.add(Conv1D(filters=64, kernel_size=3, activation='relu'))\n",
    "model.add(BatchNormalization())\n",
    "model.add(MaxPooling1D(pool_size=2))\n",
    "model.add(Flatten())\n",
    "model.add(Dense(128, activation='relu'))\n",
    "model.add(Dropout(0.6))\n",
    "model.add(Dense(len(np.unique(y_train)), activation='softmax'))\n"
   ]
  },
  {
   "cell_type": "code",
   "execution_count": 29,
   "metadata": {},
   "outputs": [
    {
     "name": "stdout",
     "output_type": "stream",
     "text": [
      "Epoch 1/50\n",
      "\u001b[1m125/125\u001b[0m \u001b[32m━━━━━━━━━━━━━━━━━━━━\u001b[0m\u001b[37m\u001b[0m \u001b[1m3s\u001b[0m 9ms/step - accuracy: 0.2786 - loss: 2.1485 - val_accuracy: 0.2230 - val_loss: 1.6080 - learning_rate: 1.0000e-04\n",
      "Epoch 2/50\n",
      "\u001b[1m125/125\u001b[0m \u001b[32m━━━━━━━━━━━━━━━━━━━━\u001b[0m\u001b[37m\u001b[0m \u001b[1m1s\u001b[0m 8ms/step - accuracy: 0.3850 - loss: 1.4217 - val_accuracy: 0.2240 - val_loss: 1.5834 - learning_rate: 1.0000e-04\n",
      "Epoch 3/50\n",
      "\u001b[1m125/125\u001b[0m \u001b[32m━━━━━━━━━━━━━━━━━━━━\u001b[0m\u001b[37m\u001b[0m \u001b[1m1s\u001b[0m 7ms/step - accuracy: 0.4166 - loss: 1.3823 - val_accuracy: 0.4370 - val_loss: 1.5003 - learning_rate: 1.0000e-04\n",
      "Epoch 4/50\n",
      "\u001b[1m125/125\u001b[0m \u001b[32m━━━━━━━━━━━━━━━━━━━━\u001b[0m\u001b[37m\u001b[0m \u001b[1m1s\u001b[0m 7ms/step - accuracy: 0.4185 - loss: 1.3596 - val_accuracy: 0.4400 - val_loss: 1.3997 - learning_rate: 1.0000e-04\n",
      "Epoch 5/50\n",
      "\u001b[1m125/125\u001b[0m \u001b[32m━━━━━━━━━━━━━━━━━━━━\u001b[0m\u001b[37m\u001b[0m \u001b[1m1s\u001b[0m 7ms/step - accuracy: 0.4298 - loss: 1.3293 - val_accuracy: 0.4870 - val_loss: 1.3227 - learning_rate: 1.0000e-04\n",
      "Epoch 6/50\n",
      "\u001b[1m125/125\u001b[0m \u001b[32m━━━━━━━━━━━━━━━━━━━━\u001b[0m\u001b[37m\u001b[0m \u001b[1m1s\u001b[0m 7ms/step - accuracy: 0.4468 - loss: 1.3052 - val_accuracy: 0.4950 - val_loss: 1.2842 - learning_rate: 1.0000e-04\n",
      "Epoch 7/50\n",
      "\u001b[1m125/125\u001b[0m \u001b[32m━━━━━━━━━━━━━━━━━━━━\u001b[0m\u001b[37m\u001b[0m \u001b[1m1s\u001b[0m 7ms/step - accuracy: 0.4664 - loss: 1.3066 - val_accuracy: 0.5030 - val_loss: 1.2768 - learning_rate: 1.0000e-04\n",
      "Epoch 8/50\n",
      "\u001b[1m125/125\u001b[0m \u001b[32m━━━━━━━━━━━━━━━━━━━━\u001b[0m\u001b[37m\u001b[0m \u001b[1m1s\u001b[0m 7ms/step - accuracy: 0.4591 - loss: 1.2985 - val_accuracy: 0.5090 - val_loss: 1.2688 - learning_rate: 1.0000e-04\n",
      "Epoch 9/50\n",
      "\u001b[1m125/125\u001b[0m \u001b[32m━━━━━━━━━━━━━━━━━━━━\u001b[0m\u001b[37m\u001b[0m \u001b[1m1s\u001b[0m 7ms/step - accuracy: 0.4748 - loss: 1.2593 - val_accuracy: 0.5040 - val_loss: 1.2662 - learning_rate: 1.0000e-04\n",
      "Epoch 10/50\n",
      "\u001b[1m125/125\u001b[0m \u001b[32m━━━━━━━━━━━━━━━━━━━━\u001b[0m\u001b[37m\u001b[0m \u001b[1m1s\u001b[0m 7ms/step - accuracy: 0.4883 - loss: 1.2506 - val_accuracy: 0.5090 - val_loss: 1.2621 - learning_rate: 1.0000e-04\n",
      "Epoch 11/50\n",
      "\u001b[1m125/125\u001b[0m \u001b[32m━━━━━━━━━━━━━━━━━━━━\u001b[0m\u001b[37m\u001b[0m \u001b[1m1s\u001b[0m 7ms/step - accuracy: 0.4781 - loss: 1.2553 - val_accuracy: 0.4990 - val_loss: 1.2582 - learning_rate: 1.0000e-04\n",
      "Epoch 12/50\n",
      "\u001b[1m125/125\u001b[0m \u001b[32m━━━━━━━━━━━━━━━━━━━━\u001b[0m\u001b[37m\u001b[0m \u001b[1m1s\u001b[0m 7ms/step - accuracy: 0.5067 - loss: 1.2077 - val_accuracy: 0.5100 - val_loss: 1.2528 - learning_rate: 1.0000e-04\n",
      "Epoch 13/50\n",
      "\u001b[1m125/125\u001b[0m \u001b[32m━━━━━━━━━━━━━━━━━━━━\u001b[0m\u001b[37m\u001b[0m \u001b[1m1s\u001b[0m 7ms/step - accuracy: 0.5055 - loss: 1.2076 - val_accuracy: 0.5120 - val_loss: 1.2531 - learning_rate: 1.0000e-04\n",
      "Epoch 14/50\n",
      "\u001b[1m125/125\u001b[0m \u001b[32m━━━━━━━━━━━━━━━━━━━━\u001b[0m\u001b[37m\u001b[0m \u001b[1m1s\u001b[0m 8ms/step - accuracy: 0.5050 - loss: 1.1937 - val_accuracy: 0.4940 - val_loss: 1.2687 - learning_rate: 1.0000e-04\n",
      "Epoch 15/50\n",
      "\u001b[1m125/125\u001b[0m \u001b[32m━━━━━━━━━━━━━━━━━━━━\u001b[0m\u001b[37m\u001b[0m \u001b[1m1s\u001b[0m 7ms/step - accuracy: 0.5070 - loss: 1.2007 - val_accuracy: 0.5090 - val_loss: 1.2410 - learning_rate: 1.0000e-04\n",
      "Epoch 16/50\n",
      "\u001b[1m125/125\u001b[0m \u001b[32m━━━━━━━━━━━━━━━━━━━━\u001b[0m\u001b[37m\u001b[0m \u001b[1m1s\u001b[0m 7ms/step - accuracy: 0.4904 - loss: 1.2121 - val_accuracy: 0.5360 - val_loss: 1.2441 - learning_rate: 1.0000e-04\n",
      "Epoch 17/50\n",
      "\u001b[1m125/125\u001b[0m \u001b[32m━━━━━━━━━━━━━━━━━━━━\u001b[0m\u001b[37m\u001b[0m \u001b[1m1s\u001b[0m 7ms/step - accuracy: 0.5239 - loss: 1.1913 - val_accuracy: 0.5140 - val_loss: 1.2405 - learning_rate: 1.0000e-04\n",
      "Epoch 18/50\n",
      "\u001b[1m125/125\u001b[0m \u001b[32m━━━━━━━━━━━━━━━━━━━━\u001b[0m\u001b[37m\u001b[0m \u001b[1m1s\u001b[0m 7ms/step - accuracy: 0.5164 - loss: 1.2064 - val_accuracy: 0.5310 - val_loss: 1.2496 - learning_rate: 1.0000e-04\n",
      "Epoch 19/50\n",
      "\u001b[1m125/125\u001b[0m \u001b[32m━━━━━━━━━━━━━━━━━━━━\u001b[0m\u001b[37m\u001b[0m \u001b[1m1s\u001b[0m 7ms/step - accuracy: 0.5211 - loss: 1.1818 - val_accuracy: 0.5380 - val_loss: 1.2514 - learning_rate: 1.0000e-04\n",
      "Epoch 20/50\n",
      "\u001b[1m125/125\u001b[0m \u001b[32m━━━━━━━━━━━━━━━━━━━━\u001b[0m\u001b[37m\u001b[0m \u001b[1m1s\u001b[0m 8ms/step - accuracy: 0.5296 - loss: 1.1479 - val_accuracy: 0.5380 - val_loss: 1.2420 - learning_rate: 1.0000e-04\n",
      "Epoch 21/50\n",
      "\u001b[1m125/125\u001b[0m \u001b[32m━━━━━━━━━━━━━━━━━━━━\u001b[0m\u001b[37m\u001b[0m \u001b[1m1s\u001b[0m 8ms/step - accuracy: 0.5266 - loss: 1.1677 - val_accuracy: 0.5310 - val_loss: 1.2426 - learning_rate: 1.0000e-04\n",
      "Epoch 22/50\n",
      "\u001b[1m125/125\u001b[0m \u001b[32m━━━━━━━━━━━━━━━━━━━━\u001b[0m\u001b[37m\u001b[0m \u001b[1m1s\u001b[0m 8ms/step - accuracy: 0.5455 - loss: 1.1391 - val_accuracy: 0.5270 - val_loss: 1.2382 - learning_rate: 1.0000e-04\n",
      "Epoch 23/50\n",
      "\u001b[1m125/125\u001b[0m \u001b[32m━━━━━━━━━━━━━━━━━━━━\u001b[0m\u001b[37m\u001b[0m \u001b[1m1s\u001b[0m 8ms/step - accuracy: 0.5294 - loss: 1.1432 - val_accuracy: 0.5350 - val_loss: 1.2440 - learning_rate: 1.0000e-04\n",
      "Epoch 24/50\n",
      "\u001b[1m125/125\u001b[0m \u001b[32m━━━━━━━━━━━━━━━━━━━━\u001b[0m\u001b[37m\u001b[0m \u001b[1m1s\u001b[0m 7ms/step - accuracy: 0.5508 - loss: 1.1337 - val_accuracy: 0.5390 - val_loss: 1.2405 - learning_rate: 1.0000e-04\n",
      "Epoch 25/50\n",
      "\u001b[1m125/125\u001b[0m \u001b[32m━━━━━━━━━━━━━━━━━━━━\u001b[0m\u001b[37m\u001b[0m \u001b[1m1s\u001b[0m 7ms/step - accuracy: 0.5333 - loss: 1.1478 - val_accuracy: 0.5410 - val_loss: 1.2301 - learning_rate: 1.0000e-04\n",
      "Epoch 26/50\n",
      "\u001b[1m125/125\u001b[0m \u001b[32m━━━━━━━━━━━━━━━━━━━━\u001b[0m\u001b[37m\u001b[0m \u001b[1m1s\u001b[0m 8ms/step - accuracy: 0.5437 - loss: 1.1261 - val_accuracy: 0.5470 - val_loss: 1.2345 - learning_rate: 1.0000e-04\n",
      "Epoch 27/50\n",
      "\u001b[1m125/125\u001b[0m \u001b[32m━━━━━━━━━━━━━━━━━━━━\u001b[0m\u001b[37m\u001b[0m \u001b[1m1s\u001b[0m 7ms/step - accuracy: 0.5474 - loss: 1.1171 - val_accuracy: 0.5220 - val_loss: 1.2465 - learning_rate: 1.0000e-04\n",
      "Epoch 28/50\n",
      "\u001b[1m125/125\u001b[0m \u001b[32m━━━━━━━━━━━━━━━━━━━━\u001b[0m\u001b[37m\u001b[0m \u001b[1m1s\u001b[0m 7ms/step - accuracy: 0.5549 - loss: 1.1336 - val_accuracy: 0.5420 - val_loss: 1.2362 - learning_rate: 1.0000e-04\n",
      "Epoch 29/50\n",
      "\u001b[1m125/125\u001b[0m \u001b[32m━━━━━━━━━━━━━━━━━━━━\u001b[0m\u001b[37m\u001b[0m \u001b[1m1s\u001b[0m 7ms/step - accuracy: 0.5454 - loss: 1.1126 - val_accuracy: 0.5260 - val_loss: 1.2546 - learning_rate: 1.0000e-04\n",
      "Epoch 30/50\n",
      "\u001b[1m125/125\u001b[0m \u001b[32m━━━━━━━━━━━━━━━━━━━━\u001b[0m\u001b[37m\u001b[0m \u001b[1m1s\u001b[0m 8ms/step - accuracy: 0.5573 - loss: 1.1089 - val_accuracy: 0.5440 - val_loss: 1.2326 - learning_rate: 1.0000e-04\n",
      "Epoch 31/50\n",
      "\u001b[1m125/125\u001b[0m \u001b[32m━━━━━━━━━━━━━━━━━━━━\u001b[0m\u001b[37m\u001b[0m \u001b[1m1s\u001b[0m 7ms/step - accuracy: 0.5500 - loss: 1.0780 - val_accuracy: 0.5440 - val_loss: 1.2327 - learning_rate: 1.0000e-05\n",
      "Epoch 32/50\n",
      "\u001b[1m125/125\u001b[0m \u001b[32m━━━━━━━━━━━━━━━━━━━━\u001b[0m\u001b[37m\u001b[0m \u001b[1m1s\u001b[0m 8ms/step - accuracy: 0.5671 - loss: 1.0682 - val_accuracy: 0.5410 - val_loss: 1.2321 - learning_rate: 1.0000e-05\n",
      "Epoch 33/50\n",
      "\u001b[1m125/125\u001b[0m \u001b[32m━━━━━━━━━━━━━━━━━━━━\u001b[0m\u001b[37m\u001b[0m \u001b[1m1s\u001b[0m 7ms/step - accuracy: 0.5589 - loss: 1.0711 - val_accuracy: 0.5440 - val_loss: 1.2333 - learning_rate: 1.0000e-05\n",
      "Epoch 34/50\n",
      "\u001b[1m125/125\u001b[0m \u001b[32m━━━━━━━━━━━━━━━━━━━━\u001b[0m\u001b[37m\u001b[0m \u001b[1m1s\u001b[0m 8ms/step - accuracy: 0.5645 - loss: 1.0774 - val_accuracy: 0.5520 - val_loss: 1.2311 - learning_rate: 1.0000e-05\n",
      "Epoch 35/50\n",
      "\u001b[1m125/125\u001b[0m \u001b[32m━━━━━━━━━━━━━━━━━━━━\u001b[0m\u001b[37m\u001b[0m \u001b[1m1s\u001b[0m 8ms/step - accuracy: 0.5830 - loss: 1.0471 - val_accuracy: 0.5500 - val_loss: 1.2344 - learning_rate: 1.0000e-05\n",
      "Epoch 36/50\n",
      "\u001b[1m125/125\u001b[0m \u001b[32m━━━━━━━━━━━━━━━━━━━━\u001b[0m\u001b[37m\u001b[0m \u001b[1m1s\u001b[0m 7ms/step - accuracy: 0.5751 - loss: 1.0680 - val_accuracy: 0.5480 - val_loss: 1.2330 - learning_rate: 1.0000e-05\n",
      "Epoch 37/50\n",
      "\u001b[1m125/125\u001b[0m \u001b[32m━━━━━━━━━━━━━━━━━━━━\u001b[0m\u001b[37m\u001b[0m \u001b[1m1s\u001b[0m 8ms/step - accuracy: 0.5778 - loss: 1.0619 - val_accuracy: 0.5430 - val_loss: 1.2365 - learning_rate: 1.0000e-05\n",
      "Epoch 38/50\n",
      "\u001b[1m125/125\u001b[0m \u001b[32m━━━━━━━━━━━━━━━━━━━━\u001b[0m\u001b[37m\u001b[0m \u001b[1m1s\u001b[0m 8ms/step - accuracy: 0.5763 - loss: 1.0658 - val_accuracy: 0.5480 - val_loss: 1.2346 - learning_rate: 1.0000e-05\n",
      "Epoch 39/50\n",
      "\u001b[1m125/125\u001b[0m \u001b[32m━━━━━━━━━━━━━━━━━━━━\u001b[0m\u001b[37m\u001b[0m \u001b[1m1s\u001b[0m 8ms/step - accuracy: 0.5624 - loss: 1.0735 - val_accuracy: 0.5430 - val_loss: 1.2338 - learning_rate: 1.0000e-05\n",
      "Epoch 40/50\n",
      "\u001b[1m125/125\u001b[0m \u001b[32m━━━━━━━━━━━━━━━━━━━━\u001b[0m\u001b[37m\u001b[0m \u001b[1m1s\u001b[0m 7ms/step - accuracy: 0.5682 - loss: 1.0555 - val_accuracy: 0.5530 - val_loss: 1.2358 - learning_rate: 1.0000e-05\n",
      "Epoch 41/50\n",
      "\u001b[1m125/125\u001b[0m \u001b[32m━━━━━━━━━━━━━━━━━━━━\u001b[0m\u001b[37m\u001b[0m \u001b[1m1s\u001b[0m 7ms/step - accuracy: 0.5588 - loss: 1.0701 - val_accuracy: 0.5490 - val_loss: 1.2355 - learning_rate: 1.0000e-05\n",
      "Epoch 42/50\n",
      "\u001b[1m125/125\u001b[0m \u001b[32m━━━━━━━━━━━━━━━━━━━━\u001b[0m\u001b[37m\u001b[0m \u001b[1m1s\u001b[0m 8ms/step - accuracy: 0.5760 - loss: 1.0567 - val_accuracy: 0.5520 - val_loss: 1.2356 - learning_rate: 1.0000e-05\n",
      "Epoch 43/50\n",
      "\u001b[1m125/125\u001b[0m \u001b[32m━━━━━━━━━━━━━━━━━━━━\u001b[0m\u001b[37m\u001b[0m \u001b[1m1s\u001b[0m 8ms/step - accuracy: 0.5696 - loss: 1.0643 - val_accuracy: 0.5500 - val_loss: 1.2367 - learning_rate: 1.0000e-05\n",
      "Epoch 44/50\n",
      "\u001b[1m125/125\u001b[0m \u001b[32m━━━━━━━━━━━━━━━━━━━━\u001b[0m\u001b[37m\u001b[0m \u001b[1m1s\u001b[0m 7ms/step - accuracy: 0.5840 - loss: 1.0479 - val_accuracy: 0.5450 - val_loss: 1.2371 - learning_rate: 1.0000e-05\n",
      "Epoch 45/50\n",
      "\u001b[1m125/125\u001b[0m \u001b[32m━━━━━━━━━━━━━━━━━━━━\u001b[0m\u001b[37m\u001b[0m \u001b[1m1s\u001b[0m 7ms/step - accuracy: 0.5760 - loss: 1.0526 - val_accuracy: 0.5500 - val_loss: 1.2344 - learning_rate: 1.0000e-05\n",
      "Epoch 46/50\n",
      "\u001b[1m125/125\u001b[0m \u001b[32m━━━━━━━━━━━━━━━━━━━━\u001b[0m\u001b[37m\u001b[0m \u001b[1m1s\u001b[0m 8ms/step - accuracy: 0.5743 - loss: 1.0544 - val_accuracy: 0.5480 - val_loss: 1.2339 - learning_rate: 1.0000e-05\n",
      "Epoch 47/50\n",
      "\u001b[1m125/125\u001b[0m \u001b[32m━━━━━━━━━━━━━━━━━━━━\u001b[0m\u001b[37m\u001b[0m \u001b[1m1s\u001b[0m 7ms/step - accuracy: 0.5939 - loss: 1.0272 - val_accuracy: 0.5460 - val_loss: 1.2352 - learning_rate: 1.0000e-05\n",
      "Epoch 48/50\n",
      "\u001b[1m125/125\u001b[0m \u001b[32m━━━━━━━━━━━━━━━━━━━━\u001b[0m\u001b[37m\u001b[0m \u001b[1m1s\u001b[0m 7ms/step - accuracy: 0.5943 - loss: 1.0459 - val_accuracy: 0.5500 - val_loss: 1.2395 - learning_rate: 1.0000e-05\n",
      "Epoch 49/50\n",
      "\u001b[1m125/125\u001b[0m \u001b[32m━━━━━━━━━━━━━━━━━━━━\u001b[0m\u001b[37m\u001b[0m \u001b[1m1s\u001b[0m 7ms/step - accuracy: 0.5968 - loss: 1.0245 - val_accuracy: 0.5420 - val_loss: 1.2384 - learning_rate: 1.0000e-05\n",
      "Epoch 50/50\n",
      "\u001b[1m125/125\u001b[0m \u001b[32m━━━━━━━━━━━━━━━━━━━━\u001b[0m\u001b[37m\u001b[0m \u001b[1m1s\u001b[0m 9ms/step - accuracy: 0.5846 - loss: 1.0354 - val_accuracy: 0.5460 - val_loss: 1.2407 - learning_rate: 1.0000e-05\n",
      "\u001b[1m32/32\u001b[0m \u001b[32m━━━━━━━━━━━━━━━━━━━━\u001b[0m\u001b[37m\u001b[0m \u001b[1m0s\u001b[0m 3ms/step - accuracy: 0.5530 - loss: 1.2193\n",
      "Test Accuracy: 0.5460000038146973\n",
      "\u001b[1m32/32\u001b[0m \u001b[32m━━━━━━━━━━━━━━━━━━━━\u001b[0m\u001b[37m\u001b[0m \u001b[1m0s\u001b[0m 6ms/step\n",
      "              precision    recall  f1-score   support\n",
      "\n",
      "           0       0.57      0.57      0.57       196\n",
      "           1       0.68      0.68      0.68       224\n",
      "           2       0.41      0.34      0.37       186\n",
      "           3       0.60      0.59      0.59       202\n",
      "           4       0.44      0.52      0.47       192\n",
      "\n",
      "    accuracy                           0.55      1000\n",
      "   macro avg       0.54      0.54      0.54      1000\n",
      "weighted avg       0.55      0.55      0.54      1000\n",
      "\n"
     ]
    }
   ],
   "source": [
    "\n",
    "\n",
    "# Compile the model with a lower learning rate and Adam optimizer\n",
    "optimizer = Adam(learning_rate=0.0001)\n",
    "model.compile(loss='sparse_categorical_crossentropy', optimizer=optimizer, metrics=['accuracy'])\n",
    "\n",
    "# Learning rate scheduler\n",
    "reduce_lr = ReduceLROnPlateau(monitor='val_loss', factor=0.1, patience=5, min_lr=0.00001)\n",
    "\n",
    "# Train the model\n",
    "history = model.fit(X_train_reshaped, y_train, epochs=50, batch_size=32,\n",
    "                    validation_data=(X_test_reshaped, y_test), callbacks=[reduce_lr])\n",
    "\n",
    "# Model evaluation\n",
    "accuracy = model.evaluate(X_test_reshaped, y_test)[1]\n",
    "print(f\"Test Accuracy: {accuracy}\")\n",
    "\n",
    "# Additional evaluation metrics\n",
    "y_pred = model.predict(X_test_reshaped)\n",
    "y_pred_classes = np.argmax(y_pred, axis=1)\n",
    "print(classification_report(y_test, y_pred_classes))"
   ]
  },
  {
   "cell_type": "code",
   "execution_count": 26,
   "metadata": {},
   "outputs": [
    {
     "data": {
      "text/html": [
       "<pre style=\"white-space:pre;overflow-x:auto;line-height:normal;font-family:Menlo,'DejaVu Sans Mono',consolas,'Courier New',monospace\"><span style=\"font-weight: bold\">Model: \"sequential\"</span>\n",
       "</pre>\n"
      ],
      "text/plain": [
       "\u001b[1mModel: \"sequential\"\u001b[0m\n"
      ]
     },
     "metadata": {},
     "output_type": "display_data"
    },
    {
     "data": {
      "text/html": [
       "<pre style=\"white-space:pre;overflow-x:auto;line-height:normal;font-family:Menlo,'DejaVu Sans Mono',consolas,'Courier New',monospace\">┏━━━━━━━━━━━━━━━━━━━━━━━━━━━━━━━━━┳━━━━━━━━━━━━━━━━━━━━━━━━┳━━━━━━━━━━━━━━━┓\n",
       "┃<span style=\"font-weight: bold\"> Layer (type)                    </span>┃<span style=\"font-weight: bold\"> Output Shape           </span>┃<span style=\"font-weight: bold\">       Param # </span>┃\n",
       "┡━━━━━━━━━━━━━━━━━━━━━━━━━━━━━━━━━╇━━━━━━━━━━━━━━━━━━━━━━━━╇━━━━━━━━━━━━━━━┩\n",
       "│ conv1d (<span style=\"color: #0087ff; text-decoration-color: #0087ff\">Conv1D</span>)                 │ (<span style=\"color: #00d7ff; text-decoration-color: #00d7ff\">None</span>, <span style=\"color: #00af00; text-decoration-color: #00af00\">92</span>, <span style=\"color: #00af00; text-decoration-color: #00af00\">32</span>)         │           <span style=\"color: #00af00; text-decoration-color: #00af00\">192</span> │\n",
       "├─────────────────────────────────┼────────────────────────┼───────────────┤\n",
       "│ batch_normalization             │ (<span style=\"color: #00d7ff; text-decoration-color: #00d7ff\">None</span>, <span style=\"color: #00af00; text-decoration-color: #00af00\">92</span>, <span style=\"color: #00af00; text-decoration-color: #00af00\">32</span>)         │           <span style=\"color: #00af00; text-decoration-color: #00af00\">128</span> │\n",
       "│ (<span style=\"color: #0087ff; text-decoration-color: #0087ff\">BatchNormalization</span>)            │                        │               │\n",
       "├─────────────────────────────────┼────────────────────────┼───────────────┤\n",
       "│ max_pooling1d (<span style=\"color: #0087ff; text-decoration-color: #0087ff\">MaxPooling1D</span>)    │ (<span style=\"color: #00d7ff; text-decoration-color: #00d7ff\">None</span>, <span style=\"color: #00af00; text-decoration-color: #00af00\">46</span>, <span style=\"color: #00af00; text-decoration-color: #00af00\">32</span>)         │             <span style=\"color: #00af00; text-decoration-color: #00af00\">0</span> │\n",
       "├─────────────────────────────────┼────────────────────────┼───────────────┤\n",
       "│ conv1d_1 (<span style=\"color: #0087ff; text-decoration-color: #0087ff\">Conv1D</span>)               │ (<span style=\"color: #00d7ff; text-decoration-color: #00d7ff\">None</span>, <span style=\"color: #00af00; text-decoration-color: #00af00\">44</span>, <span style=\"color: #00af00; text-decoration-color: #00af00\">64</span>)         │         <span style=\"color: #00af00; text-decoration-color: #00af00\">6,208</span> │\n",
       "├─────────────────────────────────┼────────────────────────┼───────────────┤\n",
       "│ batch_normalization_1           │ (<span style=\"color: #00d7ff; text-decoration-color: #00d7ff\">None</span>, <span style=\"color: #00af00; text-decoration-color: #00af00\">44</span>, <span style=\"color: #00af00; text-decoration-color: #00af00\">64</span>)         │           <span style=\"color: #00af00; text-decoration-color: #00af00\">256</span> │\n",
       "│ (<span style=\"color: #0087ff; text-decoration-color: #0087ff\">BatchNormalization</span>)            │                        │               │\n",
       "├─────────────────────────────────┼────────────────────────┼───────────────┤\n",
       "│ max_pooling1d_1 (<span style=\"color: #0087ff; text-decoration-color: #0087ff\">MaxPooling1D</span>)  │ (<span style=\"color: #00d7ff; text-decoration-color: #00d7ff\">None</span>, <span style=\"color: #00af00; text-decoration-color: #00af00\">22</span>, <span style=\"color: #00af00; text-decoration-color: #00af00\">64</span>)         │             <span style=\"color: #00af00; text-decoration-color: #00af00\">0</span> │\n",
       "├─────────────────────────────────┼────────────────────────┼───────────────┤\n",
       "│ flatten (<span style=\"color: #0087ff; text-decoration-color: #0087ff\">Flatten</span>)               │ (<span style=\"color: #00d7ff; text-decoration-color: #00d7ff\">None</span>, <span style=\"color: #00af00; text-decoration-color: #00af00\">1408</span>)           │             <span style=\"color: #00af00; text-decoration-color: #00af00\">0</span> │\n",
       "├─────────────────────────────────┼────────────────────────┼───────────────┤\n",
       "│ dense (<span style=\"color: #0087ff; text-decoration-color: #0087ff\">Dense</span>)                   │ (<span style=\"color: #00d7ff; text-decoration-color: #00d7ff\">None</span>, <span style=\"color: #00af00; text-decoration-color: #00af00\">128</span>)            │       <span style=\"color: #00af00; text-decoration-color: #00af00\">180,352</span> │\n",
       "├─────────────────────────────────┼────────────────────────┼───────────────┤\n",
       "│ dropout (<span style=\"color: #0087ff; text-decoration-color: #0087ff\">Dropout</span>)               │ (<span style=\"color: #00d7ff; text-decoration-color: #00d7ff\">None</span>, <span style=\"color: #00af00; text-decoration-color: #00af00\">128</span>)            │             <span style=\"color: #00af00; text-decoration-color: #00af00\">0</span> │\n",
       "├─────────────────────────────────┼────────────────────────┼───────────────┤\n",
       "│ dense_1 (<span style=\"color: #0087ff; text-decoration-color: #0087ff\">Dense</span>)                 │ (<span style=\"color: #00d7ff; text-decoration-color: #00d7ff\">None</span>, <span style=\"color: #00af00; text-decoration-color: #00af00\">5</span>)              │           <span style=\"color: #00af00; text-decoration-color: #00af00\">645</span> │\n",
       "└─────────────────────────────────┴────────────────────────┴───────────────┘\n",
       "</pre>\n"
      ],
      "text/plain": [
       "┏━━━━━━━━━━━━━━━━━━━━━━━━━━━━━━━━━┳━━━━━━━━━━━━━━━━━━━━━━━━┳━━━━━━━━━━━━━━━┓\n",
       "┃\u001b[1m \u001b[0m\u001b[1mLayer (type)                   \u001b[0m\u001b[1m \u001b[0m┃\u001b[1m \u001b[0m\u001b[1mOutput Shape          \u001b[0m\u001b[1m \u001b[0m┃\u001b[1m \u001b[0m\u001b[1m      Param #\u001b[0m\u001b[1m \u001b[0m┃\n",
       "┡━━━━━━━━━━━━━━━━━━━━━━━━━━━━━━━━━╇━━━━━━━━━━━━━━━━━━━━━━━━╇━━━━━━━━━━━━━━━┩\n",
       "│ conv1d (\u001b[38;5;33mConv1D\u001b[0m)                 │ (\u001b[38;5;45mNone\u001b[0m, \u001b[38;5;34m92\u001b[0m, \u001b[38;5;34m32\u001b[0m)         │           \u001b[38;5;34m192\u001b[0m │\n",
       "├─────────────────────────────────┼────────────────────────┼───────────────┤\n",
       "│ batch_normalization             │ (\u001b[38;5;45mNone\u001b[0m, \u001b[38;5;34m92\u001b[0m, \u001b[38;5;34m32\u001b[0m)         │           \u001b[38;5;34m128\u001b[0m │\n",
       "│ (\u001b[38;5;33mBatchNormalization\u001b[0m)            │                        │               │\n",
       "├─────────────────────────────────┼────────────────────────┼───────────────┤\n",
       "│ max_pooling1d (\u001b[38;5;33mMaxPooling1D\u001b[0m)    │ (\u001b[38;5;45mNone\u001b[0m, \u001b[38;5;34m46\u001b[0m, \u001b[38;5;34m32\u001b[0m)         │             \u001b[38;5;34m0\u001b[0m │\n",
       "├─────────────────────────────────┼────────────────────────┼───────────────┤\n",
       "│ conv1d_1 (\u001b[38;5;33mConv1D\u001b[0m)               │ (\u001b[38;5;45mNone\u001b[0m, \u001b[38;5;34m44\u001b[0m, \u001b[38;5;34m64\u001b[0m)         │         \u001b[38;5;34m6,208\u001b[0m │\n",
       "├─────────────────────────────────┼────────────────────────┼───────────────┤\n",
       "│ batch_normalization_1           │ (\u001b[38;5;45mNone\u001b[0m, \u001b[38;5;34m44\u001b[0m, \u001b[38;5;34m64\u001b[0m)         │           \u001b[38;5;34m256\u001b[0m │\n",
       "│ (\u001b[38;5;33mBatchNormalization\u001b[0m)            │                        │               │\n",
       "├─────────────────────────────────┼────────────────────────┼───────────────┤\n",
       "│ max_pooling1d_1 (\u001b[38;5;33mMaxPooling1D\u001b[0m)  │ (\u001b[38;5;45mNone\u001b[0m, \u001b[38;5;34m22\u001b[0m, \u001b[38;5;34m64\u001b[0m)         │             \u001b[38;5;34m0\u001b[0m │\n",
       "├─────────────────────────────────┼────────────────────────┼───────────────┤\n",
       "│ flatten (\u001b[38;5;33mFlatten\u001b[0m)               │ (\u001b[38;5;45mNone\u001b[0m, \u001b[38;5;34m1408\u001b[0m)           │             \u001b[38;5;34m0\u001b[0m │\n",
       "├─────────────────────────────────┼────────────────────────┼───────────────┤\n",
       "│ dense (\u001b[38;5;33mDense\u001b[0m)                   │ (\u001b[38;5;45mNone\u001b[0m, \u001b[38;5;34m128\u001b[0m)            │       \u001b[38;5;34m180,352\u001b[0m │\n",
       "├─────────────────────────────────┼────────────────────────┼───────────────┤\n",
       "│ dropout (\u001b[38;5;33mDropout\u001b[0m)               │ (\u001b[38;5;45mNone\u001b[0m, \u001b[38;5;34m128\u001b[0m)            │             \u001b[38;5;34m0\u001b[0m │\n",
       "├─────────────────────────────────┼────────────────────────┼───────────────┤\n",
       "│ dense_1 (\u001b[38;5;33mDense\u001b[0m)                 │ (\u001b[38;5;45mNone\u001b[0m, \u001b[38;5;34m5\u001b[0m)              │           \u001b[38;5;34m645\u001b[0m │\n",
       "└─────────────────────────────────┴────────────────────────┴───────────────┘\n"
      ]
     },
     "metadata": {},
     "output_type": "display_data"
    },
    {
     "data": {
      "text/html": [
       "<pre style=\"white-space:pre;overflow-x:auto;line-height:normal;font-family:Menlo,'DejaVu Sans Mono',consolas,'Courier New',monospace\"><span style=\"font-weight: bold\"> Total params: </span><span style=\"color: #00af00; text-decoration-color: #00af00\">562,961</span> (2.15 MB)\n",
       "</pre>\n"
      ],
      "text/plain": [
       "\u001b[1m Total params: \u001b[0m\u001b[38;5;34m562,961\u001b[0m (2.15 MB)\n"
      ]
     },
     "metadata": {},
     "output_type": "display_data"
    },
    {
     "data": {
      "text/html": [
       "<pre style=\"white-space:pre;overflow-x:auto;line-height:normal;font-family:Menlo,'DejaVu Sans Mono',consolas,'Courier New',monospace\"><span style=\"font-weight: bold\"> Trainable params: </span><span style=\"color: #00af00; text-decoration-color: #00af00\">187,589</span> (732.77 KB)\n",
       "</pre>\n"
      ],
      "text/plain": [
       "\u001b[1m Trainable params: \u001b[0m\u001b[38;5;34m187,589\u001b[0m (732.77 KB)\n"
      ]
     },
     "metadata": {},
     "output_type": "display_data"
    },
    {
     "data": {
      "text/html": [
       "<pre style=\"white-space:pre;overflow-x:auto;line-height:normal;font-family:Menlo,'DejaVu Sans Mono',consolas,'Courier New',monospace\"><span style=\"font-weight: bold\"> Non-trainable params: </span><span style=\"color: #00af00; text-decoration-color: #00af00\">192</span> (768.00 B)\n",
       "</pre>\n"
      ],
      "text/plain": [
       "\u001b[1m Non-trainable params: \u001b[0m\u001b[38;5;34m192\u001b[0m (768.00 B)\n"
      ]
     },
     "metadata": {},
     "output_type": "display_data"
    },
    {
     "data": {
      "text/html": [
       "<pre style=\"white-space:pre;overflow-x:auto;line-height:normal;font-family:Menlo,'DejaVu Sans Mono',consolas,'Courier New',monospace\"><span style=\"font-weight: bold\"> Optimizer params: </span><span style=\"color: #00af00; text-decoration-color: #00af00\">375,180</span> (1.43 MB)\n",
       "</pre>\n"
      ],
      "text/plain": [
       "\u001b[1m Optimizer params: \u001b[0m\u001b[38;5;34m375,180\u001b[0m (1.43 MB)\n"
      ]
     },
     "metadata": {},
     "output_type": "display_data"
    }
   ],
   "source": [
    "model.summary()"
   ]
  },
  {
   "cell_type": "code",
   "execution_count": 25,
   "metadata": {},
   "outputs": [
    {
     "name": "stdout",
     "output_type": "stream",
     "text": [
      "(None, 96, 1)\n"
     ]
    }
   ],
   "source": [
    "print(model.input_shape)"
   ]
  },
  {
   "cell_type": "code",
   "execution_count": 62,
   "metadata": {},
   "outputs": [
    {
     "data": {
      "text/plain": [
       "numpy.ndarray"
      ]
     },
     "execution_count": 62,
     "metadata": {},
     "output_type": "execute_result"
    }
   ],
   "source": [
    "type(X_train_reshaped)"
   ]
  },
  {
   "cell_type": "code",
   "execution_count": 63,
   "metadata": {},
   "outputs": [
    {
     "data": {
      "text/plain": [
       "numpy.ndarray"
      ]
     },
     "execution_count": 63,
     "metadata": {},
     "output_type": "execute_result"
    }
   ],
   "source": [
    "type(X_test_reshaped)"
   ]
  },
  {
   "cell_type": "code",
   "execution_count": 64,
   "metadata": {},
   "outputs": [
    {
     "data": {
      "text/plain": [
       "numpy.ndarray"
      ]
     },
     "execution_count": 64,
     "metadata": {},
     "output_type": "execute_result"
    }
   ],
   "source": [
    "type(y_train)"
   ]
  },
  {
   "cell_type": "code",
   "execution_count": 65,
   "metadata": {},
   "outputs": [
    {
     "data": {
      "text/plain": [
       "numpy.ndarray"
      ]
     },
     "execution_count": 65,
     "metadata": {},
     "output_type": "execute_result"
    }
   ],
   "source": [
    "type(y_test)"
   ]
  },
  {
   "cell_type": "code",
   "execution_count": 66,
   "metadata": {},
   "outputs": [
    {
     "data": {
      "text/plain": [
       "array(['STTC', 'CD', 'STTC', 'STTC', 'NORM', 'NORM', 'NORM', 'MI', 'CD',\n",
       "       'NORM', 'MI', 'NORM', 'HYP', 'NORM', 'HYP', 'STTC', 'HYP', 'MI',\n",
       "       'CD', 'NORM', 'STTC', 'HYP', 'NORM', 'STTC', 'HYP', 'MI', 'STTC',\n",
       "       'NORM', 'HYP', 'MI', 'STTC', 'NORM', 'HYP', 'HYP', 'NORM', 'STTC',\n",
       "       'STTC', 'CD', 'HYP', 'STTC', 'STTC', 'HYP', 'NORM', 'NORM', 'STTC',\n",
       "       'CD', 'STTC', 'HYP', 'HYP', 'HYP', 'HYP', 'HYP', 'HYP', 'STTC',\n",
       "       'MI', 'MI', 'NORM', 'NORM', 'NORM', 'MI', 'MI', 'HYP', 'CD', 'HYP',\n",
       "       'STTC', 'HYP', 'HYP', 'MI', 'CD', 'HYP', 'MI', 'NORM', 'NORM',\n",
       "       'STTC', 'NORM', 'MI', 'NORM', 'MI', 'CD', 'CD', 'MI', 'MI', 'CD',\n",
       "       'MI', 'MI', 'NORM', 'NORM', 'NORM', 'HYP', 'HYP', 'STTC', 'NORM',\n",
       "       'NORM', 'NORM', 'STTC', 'HYP', 'CD', 'STTC', 'NORM', 'NORM', 'CD',\n",
       "       'NORM', 'STTC', 'HYP', 'NORM', 'MI', 'CD', 'NORM', 'CD', 'NORM',\n",
       "       'CD', 'MI', 'STTC', 'STTC', 'MI', 'STTC', 'HYP', 'MI', 'NORM',\n",
       "       'CD', 'MI', 'CD', 'HYP', 'NORM', 'CD', 'HYP', 'HYP', 'HYP', 'STTC',\n",
       "       'STTC', 'HYP', 'CD', 'HYP', 'CD', 'STTC', 'STTC', 'CD', 'STTC',\n",
       "       'NORM', 'NORM', 'HYP', 'HYP', 'HYP', 'HYP', 'CD', 'MI', 'HYP',\n",
       "       'HYP', 'STTC', 'MI', 'MI', 'STTC', 'HYP', 'HYP', 'HYP', 'NORM',\n",
       "       'STTC', 'HYP', 'CD', 'MI', 'STTC', 'CD', 'HYP', 'NORM', 'NORM',\n",
       "       'STTC', 'NORM', 'NORM', 'STTC', 'MI', 'STTC', 'CD', 'MI', 'MI',\n",
       "       'STTC', 'MI', 'STTC', 'CD', 'NORM', 'STTC', 'HYP', 'MI', 'MI',\n",
       "       'MI', 'STTC', 'CD', 'HYP', 'STTC', 'MI', 'MI', 'NORM', 'STTC',\n",
       "       'CD', 'HYP', 'CD', 'HYP', 'NORM', 'CD', 'CD', 'HYP', 'CD', 'NORM',\n",
       "       'CD', 'CD', 'HYP', 'MI', 'HYP', 'STTC', 'CD', 'NORM', 'CD', 'MI',\n",
       "       'HYP', 'MI', 'CD', 'STTC', 'HYP', 'MI', 'HYP', 'MI', 'NORM', 'MI',\n",
       "       'HYP', 'STTC', 'CD', 'HYP', 'STTC', 'MI', 'STTC', 'MI', 'CD',\n",
       "       'STTC', 'NORM', 'HYP', 'NORM', 'STTC', 'CD', 'CD', 'STTC', 'HYP',\n",
       "       'HYP', 'NORM', 'HYP', 'HYP', 'STTC', 'NORM', 'HYP', 'CD', 'STTC',\n",
       "       'HYP', 'HYP', 'CD', 'MI', 'STTC', 'MI', 'NORM', 'CD', 'MI', 'NORM',\n",
       "       'HYP', 'STTC', 'MI', 'MI', 'HYP', 'NORM', 'HYP', 'MI', 'STTC',\n",
       "       'STTC', 'CD', 'STTC', 'CD', 'HYP', 'NORM', 'MI', 'CD', 'NORM',\n",
       "       'HYP', 'STTC', 'NORM', 'HYP', 'HYP', 'MI', 'NORM', 'NORM', 'CD',\n",
       "       'NORM', 'HYP', 'CD', 'MI', 'NORM', 'MI', 'STTC', 'CD', 'MI',\n",
       "       'NORM', 'MI', 'CD', 'HYP', 'NORM', 'HYP', 'STTC', 'STTC', 'NORM',\n",
       "       'CD', 'HYP', 'HYP', 'MI', 'HYP', 'MI', 'CD', 'STTC', 'MI', 'HYP',\n",
       "       'NORM', 'STTC', 'CD', 'STTC', 'HYP', 'STTC', 'HYP', 'HYP', 'MI',\n",
       "       'HYP', 'CD', 'NORM', 'STTC', 'STTC', 'STTC', 'CD', 'STTC', 'NORM',\n",
       "       'CD', 'MI', 'STTC', 'STTC', 'NORM', 'CD', 'CD', 'CD', 'CD', 'STTC',\n",
       "       'NORM', 'MI', 'STTC', 'STTC', 'HYP', 'CD', 'CD', 'MI', 'CD',\n",
       "       'STTC', 'STTC', 'HYP', 'HYP', 'STTC', 'MI', 'NORM', 'MI', 'STTC',\n",
       "       'NORM', 'HYP', 'CD', 'MI', 'NORM', 'MI', 'NORM', 'NORM', 'HYP',\n",
       "       'CD', 'CD', 'HYP', 'NORM', 'HYP', 'MI', 'STTC', 'STTC', 'MI', 'CD',\n",
       "       'CD', 'CD', 'HYP', 'STTC', 'MI', 'NORM', 'STTC', 'HYP', 'NORM',\n",
       "       'NORM', 'MI', 'NORM', 'HYP', 'MI', 'NORM', 'NORM', 'STTC', 'NORM',\n",
       "       'NORM', 'STTC', 'MI', 'NORM', 'CD', 'STTC', 'STTC', 'STTC', 'MI',\n",
       "       'STTC', 'HYP', 'NORM', 'STTC', 'NORM', 'MI', 'STTC', 'NORM', 'CD',\n",
       "       'HYP', 'NORM', 'HYP', 'MI', 'STTC', 'CD', 'STTC', 'STTC', 'NORM',\n",
       "       'MI', 'HYP', 'STTC', 'MI', 'HYP', 'NORM', 'NORM', 'HYP', 'MI',\n",
       "       'HYP', 'CD', 'MI', 'HYP', 'STTC', 'NORM', 'MI', 'STTC', 'NORM',\n",
       "       'STTC', 'MI', 'NORM', 'NORM', 'CD', 'HYP', 'NORM', 'NORM', 'MI',\n",
       "       'HYP', 'HYP', 'MI', 'HYP', 'STTC', 'CD', 'MI', 'STTC', 'MI',\n",
       "       'NORM', 'NORM', 'CD', 'MI', 'MI', 'CD', 'CD', 'HYP', 'HYP', 'HYP',\n",
       "       'MI', 'MI', 'STTC', 'MI', 'CD', 'STTC', 'MI', 'MI', 'MI', 'NORM',\n",
       "       'CD', 'CD', 'MI', 'CD', 'CD', 'HYP', 'CD', 'CD', 'NORM', 'MI',\n",
       "       'NORM', 'HYP', 'MI', 'MI', 'NORM', 'STTC', 'MI', 'CD', 'NORM',\n",
       "       'STTC', 'STTC', 'CD', 'CD', 'CD', 'NORM', 'NORM', 'STTC', 'NORM',\n",
       "       'NORM', 'HYP', 'STTC', 'HYP', 'CD', 'NORM', 'NORM', 'CD', 'STTC',\n",
       "       'NORM', 'NORM', 'CD', 'CD', 'CD', 'NORM', 'CD', 'MI', 'CD', 'CD',\n",
       "       'MI', 'CD', 'HYP', 'MI', 'STTC', 'STTC', 'NORM', 'HYP', 'HYP',\n",
       "       'CD', 'STTC', 'MI', 'HYP', 'HYP', 'HYP', 'NORM', 'HYP', 'HYP',\n",
       "       'MI', 'STTC', 'HYP', 'STTC', 'MI', 'STTC', 'CD', 'CD', 'CD',\n",
       "       'STTC', 'NORM', 'CD', 'HYP', 'HYP', 'MI', 'CD', 'STTC', 'MI', 'MI',\n",
       "       'NORM', 'HYP', 'CD', 'MI', 'CD', 'CD', 'HYP', 'CD', 'HYP', 'MI',\n",
       "       'NORM', 'HYP', 'NORM', 'HYP', 'STTC', 'STTC', 'CD', 'HYP', 'HYP',\n",
       "       'CD', 'MI', 'CD', 'HYP', 'STTC', 'MI', 'HYP', 'CD', 'NORM', 'CD',\n",
       "       'HYP', 'HYP', 'MI', 'STTC', 'STTC', 'MI', 'STTC', 'NORM', 'HYP',\n",
       "       'NORM', 'HYP', 'HYP', 'STTC', 'NORM', 'MI', 'CD', 'HYP', 'NORM',\n",
       "       'HYP', 'NORM', 'STTC', 'CD', 'MI', 'NORM', 'MI', 'NORM', 'MI',\n",
       "       'STTC', 'STTC', 'MI', 'MI', 'CD', 'HYP', 'HYP', 'MI', 'MI', 'NORM',\n",
       "       'NORM', 'STTC', 'NORM', 'MI', 'MI', 'NORM', 'MI', 'CD', 'HYP',\n",
       "       'HYP', 'STTC', 'STTC', 'HYP', 'STTC', 'HYP', 'STTC', 'MI', 'CD',\n",
       "       'NORM', 'STTC', 'STTC', 'MI', 'HYP', 'MI', 'CD', 'CD', 'CD',\n",
       "       'NORM', 'STTC', 'NORM', 'NORM', 'NORM', 'CD', 'MI', 'MI', 'HYP',\n",
       "       'NORM', 'HYP', 'STTC', 'NORM', 'HYP', 'NORM', 'NORM', 'NORM', 'CD',\n",
       "       'CD', 'STTC', 'CD', 'STTC', 'MI', 'STTC', 'CD', 'CD', 'HYP',\n",
       "       'STTC', 'HYP', 'NORM', 'STTC', 'HYP', 'HYP', 'CD', 'HYP', 'HYP',\n",
       "       'MI', 'HYP', 'STTC', 'NORM', 'NORM', 'CD', 'STTC', 'HYP', 'CD',\n",
       "       'MI', 'HYP', 'HYP', 'HYP', 'MI', 'STTC', 'CD', 'CD', 'STTC',\n",
       "       'NORM', 'STTC', 'CD', 'MI', 'STTC', 'CD', 'MI', 'NORM', 'HYP',\n",
       "       'STTC', 'NORM', 'CD', 'STTC', 'MI', 'HYP', 'NORM', 'MI', 'CD',\n",
       "       'MI', 'HYP', 'HYP', 'STTC', 'CD', 'HYP', 'HYP', 'NORM', 'STTC',\n",
       "       'CD', 'NORM', 'MI', 'MI', 'STTC', 'CD', 'HYP', 'STTC', 'NORM',\n",
       "       'NORM', 'STTC', 'HYP', 'MI', 'MI', 'HYP', 'HYP', 'CD', 'MI',\n",
       "       'STTC', 'MI', 'CD', 'CD', 'CD', 'NORM', 'MI', 'MI', 'CD', 'NORM',\n",
       "       'MI', 'STTC', 'CD', 'MI', 'CD', 'MI', 'NORM', 'STTC', 'STTC', 'CD',\n",
       "       'NORM', 'CD', 'NORM', 'CD', 'MI', 'MI', 'CD', 'MI', 'CD', 'CD',\n",
       "       'STTC', 'CD', 'MI', 'NORM', 'STTC', 'HYP', 'HYP', 'NORM', 'HYP',\n",
       "       'MI', 'NORM', 'CD', 'HYP', 'NORM', 'MI', 'NORM', 'MI', 'NORM',\n",
       "       'HYP', 'STTC', 'MI', 'HYP', 'NORM', 'HYP', 'HYP', 'NORM', 'NORM',\n",
       "       'STTC', 'CD', 'CD', 'HYP', 'STTC', 'HYP', 'STTC', 'NORM', 'HYP',\n",
       "       'CD', 'HYP', 'CD', 'HYP', 'HYP', 'STTC', 'CD', 'STTC', 'CD',\n",
       "       'STTC', 'NORM', 'HYP', 'CD', 'MI', 'HYP', 'NORM', 'MI', 'STTC',\n",
       "       'HYP', 'NORM', 'NORM', 'MI', 'NORM', 'HYP', 'STTC', 'HYP', 'HYP',\n",
       "       'HYP', 'CD', 'NORM', 'MI', 'CD', 'HYP', 'NORM', 'NORM', 'NORM',\n",
       "       'CD', 'MI', 'STTC', 'CD', 'CD', 'HYP', 'CD', 'STTC', 'CD', 'CD',\n",
       "       'STTC', 'HYP', 'CD', 'NORM', 'NORM', 'HYP', 'STTC', 'MI', 'CD',\n",
       "       'MI', 'CD', 'NORM', 'STTC', 'NORM', 'CD', 'STTC', 'NORM', 'NORM',\n",
       "       'HYP', 'HYP', 'STTC', 'CD', 'STTC', 'HYP', 'CD', 'MI', 'HYP', 'MI',\n",
       "       'MI', 'CD', 'MI', 'HYP', 'NORM', 'MI', 'CD', 'CD', 'HYP', 'NORM',\n",
       "       'STTC', 'MI', 'MI', 'HYP', 'STTC', 'HYP', 'STTC', 'MI', 'CD',\n",
       "       'STTC', 'HYP', 'HYP', 'CD', 'NORM', 'HYP', 'STTC', 'CD', 'STTC',\n",
       "       'CD', 'HYP', 'STTC', 'HYP', 'NORM', 'MI', 'NORM', 'HYP', 'NORM',\n",
       "       'NORM', 'CD', 'STTC', 'CD', 'MI', 'NORM', 'HYP', 'CD', 'STTC',\n",
       "       'HYP', 'NORM', 'HYP', 'MI', 'NORM', 'HYP', 'STTC', 'MI', 'HYP',\n",
       "       'HYP', 'MI', 'CD', 'NORM', 'NORM', 'NORM', 'CD', 'HYP', 'HYP',\n",
       "       'MI', 'MI', 'CD', 'CD', 'STTC', 'HYP', 'NORM', 'NORM', 'STTC',\n",
       "       'CD', 'STTC', 'NORM', 'NORM', 'HYP', 'MI', 'MI', 'STTC', 'STTC',\n",
       "       'STTC', 'HYP', 'NORM', 'NORM', 'HYP', 'MI', 'MI', 'STTC', 'HYP',\n",
       "       'NORM', 'HYP', 'HYP', 'MI', 'CD', 'CD', 'MI', 'CD', 'HYP', 'MI',\n",
       "       'HYP', 'CD', 'CD'], dtype=object)"
      ]
     },
     "execution_count": 66,
     "metadata": {},
     "output_type": "execute_result"
    }
   ],
   "source": [
    "y_test"
   ]
  },
  {
   "cell_type": "code",
   "execution_count": 70,
   "metadata": {},
   "outputs": [
    {
     "name": "stdout",
     "output_type": "stream",
     "text": [
      "float64\n",
      "float64\n",
      "float64\n",
      "float64\n"
     ]
    }
   ],
   "source": [
    "print(X_train_reshaped.dtype)\n",
    "print(y_train.dtype)\n",
    "print(X_test_reshaped.dtype)\n",
    "print(y_test.dtype)"
   ]
  },
  {
   "cell_type": "code",
   "execution_count": 71,
   "metadata": {},
   "outputs": [
    {
     "name": "stdout",
     "output_type": "stream",
     "text": [
      "Shape of y_train: (4000, 5)\n",
      "Unique values in y_train: [0. 1.]\n"
     ]
    }
   ],
   "source": [
    "print(\"Shape of y_train:\", y_train.shape)\n",
    "print(\"Unique values in y_train:\", np.unique(y_train))"
   ]
  },
  {
   "cell_type": "code",
   "execution_count": 122,
   "metadata": {},
   "outputs": [
    {
     "data": {
      "text/html": [
       "<pre style=\"white-space:pre;overflow-x:auto;line-height:normal;font-family:Menlo,'DejaVu Sans Mono',consolas,'Courier New',monospace\"><span style=\"font-weight: bold\">Model: \"sequential_8\"</span>\n",
       "</pre>\n"
      ],
      "text/plain": [
       "\u001b[1mModel: \"sequential_8\"\u001b[0m\n"
      ]
     },
     "metadata": {},
     "output_type": "display_data"
    },
    {
     "data": {
      "text/html": [
       "<pre style=\"white-space:pre;overflow-x:auto;line-height:normal;font-family:Menlo,'DejaVu Sans Mono',consolas,'Courier New',monospace\">┏━━━━━━━━━━━━━━━━━━━━━━━━━━━━━━━━━┳━━━━━━━━━━━━━━━━━━━━━━━━┳━━━━━━━━━━━━━━━┓\n",
       "┃<span style=\"font-weight: bold\"> Layer (type)                    </span>┃<span style=\"font-weight: bold\"> Output Shape           </span>┃<span style=\"font-weight: bold\">       Param # </span>┃\n",
       "┡━━━━━━━━━━━━━━━━━━━━━━━━━━━━━━━━━╇━━━━━━━━━━━━━━━━━━━━━━━━╇━━━━━━━━━━━━━━━┩\n",
       "│ conv1d_16 (<span style=\"color: #0087ff; text-decoration-color: #0087ff\">Conv1D</span>)              │ (<span style=\"color: #00d7ff; text-decoration-color: #00d7ff\">None</span>, <span style=\"color: #00af00; text-decoration-color: #00af00\">4996</span>, <span style=\"color: #00af00; text-decoration-color: #00af00\">32</span>)       │         <span style=\"color: #00af00; text-decoration-color: #00af00\">1,952</span> │\n",
       "├─────────────────────────────────┼────────────────────────┼───────────────┤\n",
       "│ batch_normalization_16          │ (<span style=\"color: #00d7ff; text-decoration-color: #00d7ff\">None</span>, <span style=\"color: #00af00; text-decoration-color: #00af00\">4996</span>, <span style=\"color: #00af00; text-decoration-color: #00af00\">32</span>)       │           <span style=\"color: #00af00; text-decoration-color: #00af00\">128</span> │\n",
       "│ (<span style=\"color: #0087ff; text-decoration-color: #0087ff\">BatchNormalization</span>)            │                        │               │\n",
       "├─────────────────────────────────┼────────────────────────┼───────────────┤\n",
       "│ max_pooling1d_16 (<span style=\"color: #0087ff; text-decoration-color: #0087ff\">MaxPooling1D</span>) │ (<span style=\"color: #00d7ff; text-decoration-color: #00d7ff\">None</span>, <span style=\"color: #00af00; text-decoration-color: #00af00\">2498</span>, <span style=\"color: #00af00; text-decoration-color: #00af00\">32</span>)       │             <span style=\"color: #00af00; text-decoration-color: #00af00\">0</span> │\n",
       "├─────────────────────────────────┼────────────────────────┼───────────────┤\n",
       "│ conv1d_17 (<span style=\"color: #0087ff; text-decoration-color: #0087ff\">Conv1D</span>)              │ (<span style=\"color: #00d7ff; text-decoration-color: #00d7ff\">None</span>, <span style=\"color: #00af00; text-decoration-color: #00af00\">2496</span>, <span style=\"color: #00af00; text-decoration-color: #00af00\">64</span>)       │         <span style=\"color: #00af00; text-decoration-color: #00af00\">6,208</span> │\n",
       "├─────────────────────────────────┼────────────────────────┼───────────────┤\n",
       "│ batch_normalization_17          │ (<span style=\"color: #00d7ff; text-decoration-color: #00d7ff\">None</span>, <span style=\"color: #00af00; text-decoration-color: #00af00\">2496</span>, <span style=\"color: #00af00; text-decoration-color: #00af00\">64</span>)       │           <span style=\"color: #00af00; text-decoration-color: #00af00\">256</span> │\n",
       "│ (<span style=\"color: #0087ff; text-decoration-color: #0087ff\">BatchNormalization</span>)            │                        │               │\n",
       "├─────────────────────────────────┼────────────────────────┼───────────────┤\n",
       "│ max_pooling1d_17 (<span style=\"color: #0087ff; text-decoration-color: #0087ff\">MaxPooling1D</span>) │ (<span style=\"color: #00d7ff; text-decoration-color: #00d7ff\">None</span>, <span style=\"color: #00af00; text-decoration-color: #00af00\">1248</span>, <span style=\"color: #00af00; text-decoration-color: #00af00\">64</span>)       │             <span style=\"color: #00af00; text-decoration-color: #00af00\">0</span> │\n",
       "├─────────────────────────────────┼────────────────────────┼───────────────┤\n",
       "│ flatten_8 (<span style=\"color: #0087ff; text-decoration-color: #0087ff\">Flatten</span>)             │ (<span style=\"color: #00d7ff; text-decoration-color: #00d7ff\">None</span>, <span style=\"color: #00af00; text-decoration-color: #00af00\">79872</span>)          │             <span style=\"color: #00af00; text-decoration-color: #00af00\">0</span> │\n",
       "├─────────────────────────────────┼────────────────────────┼───────────────┤\n",
       "│ dense_16 (<span style=\"color: #0087ff; text-decoration-color: #0087ff\">Dense</span>)                │ (<span style=\"color: #00d7ff; text-decoration-color: #00d7ff\">None</span>, <span style=\"color: #00af00; text-decoration-color: #00af00\">128</span>)            │    <span style=\"color: #00af00; text-decoration-color: #00af00\">10,223,744</span> │\n",
       "├─────────────────────────────────┼────────────────────────┼───────────────┤\n",
       "│ dropout_8 (<span style=\"color: #0087ff; text-decoration-color: #0087ff\">Dropout</span>)             │ (<span style=\"color: #00d7ff; text-decoration-color: #00d7ff\">None</span>, <span style=\"color: #00af00; text-decoration-color: #00af00\">128</span>)            │             <span style=\"color: #00af00; text-decoration-color: #00af00\">0</span> │\n",
       "├─────────────────────────────────┼────────────────────────┼───────────────┤\n",
       "│ dense_17 (<span style=\"color: #0087ff; text-decoration-color: #0087ff\">Dense</span>)                │ (<span style=\"color: #00d7ff; text-decoration-color: #00d7ff\">None</span>, <span style=\"color: #00af00; text-decoration-color: #00af00\">5</span>)              │           <span style=\"color: #00af00; text-decoration-color: #00af00\">645</span> │\n",
       "└─────────────────────────────────┴────────────────────────┴───────────────┘\n",
       "</pre>\n"
      ],
      "text/plain": [
       "┏━━━━━━━━━━━━━━━━━━━━━━━━━━━━━━━━━┳━━━━━━━━━━━━━━━━━━━━━━━━┳━━━━━━━━━━━━━━━┓\n",
       "┃\u001b[1m \u001b[0m\u001b[1mLayer (type)                   \u001b[0m\u001b[1m \u001b[0m┃\u001b[1m \u001b[0m\u001b[1mOutput Shape          \u001b[0m\u001b[1m \u001b[0m┃\u001b[1m \u001b[0m\u001b[1m      Param #\u001b[0m\u001b[1m \u001b[0m┃\n",
       "┡━━━━━━━━━━━━━━━━━━━━━━━━━━━━━━━━━╇━━━━━━━━━━━━━━━━━━━━━━━━╇━━━━━━━━━━━━━━━┩\n",
       "│ conv1d_16 (\u001b[38;5;33mConv1D\u001b[0m)              │ (\u001b[38;5;45mNone\u001b[0m, \u001b[38;5;34m4996\u001b[0m, \u001b[38;5;34m32\u001b[0m)       │         \u001b[38;5;34m1,952\u001b[0m │\n",
       "├─────────────────────────────────┼────────────────────────┼───────────────┤\n",
       "│ batch_normalization_16          │ (\u001b[38;5;45mNone\u001b[0m, \u001b[38;5;34m4996\u001b[0m, \u001b[38;5;34m32\u001b[0m)       │           \u001b[38;5;34m128\u001b[0m │\n",
       "│ (\u001b[38;5;33mBatchNormalization\u001b[0m)            │                        │               │\n",
       "├─────────────────────────────────┼────────────────────────┼───────────────┤\n",
       "│ max_pooling1d_16 (\u001b[38;5;33mMaxPooling1D\u001b[0m) │ (\u001b[38;5;45mNone\u001b[0m, \u001b[38;5;34m2498\u001b[0m, \u001b[38;5;34m32\u001b[0m)       │             \u001b[38;5;34m0\u001b[0m │\n",
       "├─────────────────────────────────┼────────────────────────┼───────────────┤\n",
       "│ conv1d_17 (\u001b[38;5;33mConv1D\u001b[0m)              │ (\u001b[38;5;45mNone\u001b[0m, \u001b[38;5;34m2496\u001b[0m, \u001b[38;5;34m64\u001b[0m)       │         \u001b[38;5;34m6,208\u001b[0m │\n",
       "├─────────────────────────────────┼────────────────────────┼───────────────┤\n",
       "│ batch_normalization_17          │ (\u001b[38;5;45mNone\u001b[0m, \u001b[38;5;34m2496\u001b[0m, \u001b[38;5;34m64\u001b[0m)       │           \u001b[38;5;34m256\u001b[0m │\n",
       "│ (\u001b[38;5;33mBatchNormalization\u001b[0m)            │                        │               │\n",
       "├─────────────────────────────────┼────────────────────────┼───────────────┤\n",
       "│ max_pooling1d_17 (\u001b[38;5;33mMaxPooling1D\u001b[0m) │ (\u001b[38;5;45mNone\u001b[0m, \u001b[38;5;34m1248\u001b[0m, \u001b[38;5;34m64\u001b[0m)       │             \u001b[38;5;34m0\u001b[0m │\n",
       "├─────────────────────────────────┼────────────────────────┼───────────────┤\n",
       "│ flatten_8 (\u001b[38;5;33mFlatten\u001b[0m)             │ (\u001b[38;5;45mNone\u001b[0m, \u001b[38;5;34m79872\u001b[0m)          │             \u001b[38;5;34m0\u001b[0m │\n",
       "├─────────────────────────────────┼────────────────────────┼───────────────┤\n",
       "│ dense_16 (\u001b[38;5;33mDense\u001b[0m)                │ (\u001b[38;5;45mNone\u001b[0m, \u001b[38;5;34m128\u001b[0m)            │    \u001b[38;5;34m10,223,744\u001b[0m │\n",
       "├─────────────────────────────────┼────────────────────────┼───────────────┤\n",
       "│ dropout_8 (\u001b[38;5;33mDropout\u001b[0m)             │ (\u001b[38;5;45mNone\u001b[0m, \u001b[38;5;34m128\u001b[0m)            │             \u001b[38;5;34m0\u001b[0m │\n",
       "├─────────────────────────────────┼────────────────────────┼───────────────┤\n",
       "│ dense_17 (\u001b[38;5;33mDense\u001b[0m)                │ (\u001b[38;5;45mNone\u001b[0m, \u001b[38;5;34m5\u001b[0m)              │           \u001b[38;5;34m645\u001b[0m │\n",
       "└─────────────────────────────────┴────────────────────────┴───────────────┘\n"
      ]
     },
     "metadata": {},
     "output_type": "display_data"
    },
    {
     "data": {
      "text/html": [
       "<pre style=\"white-space:pre;overflow-x:auto;line-height:normal;font-family:Menlo,'DejaVu Sans Mono',consolas,'Courier New',monospace\"><span style=\"font-weight: bold\"> Total params: </span><span style=\"color: #00af00; text-decoration-color: #00af00\">10,232,933</span> (39.04 MB)\n",
       "</pre>\n"
      ],
      "text/plain": [
       "\u001b[1m Total params: \u001b[0m\u001b[38;5;34m10,232,933\u001b[0m (39.04 MB)\n"
      ]
     },
     "metadata": {},
     "output_type": "display_data"
    },
    {
     "data": {
      "text/html": [
       "<pre style=\"white-space:pre;overflow-x:auto;line-height:normal;font-family:Menlo,'DejaVu Sans Mono',consolas,'Courier New',monospace\"><span style=\"font-weight: bold\"> Trainable params: </span><span style=\"color: #00af00; text-decoration-color: #00af00\">10,232,741</span> (39.03 MB)\n",
       "</pre>\n"
      ],
      "text/plain": [
       "\u001b[1m Trainable params: \u001b[0m\u001b[38;5;34m10,232,741\u001b[0m (39.03 MB)\n"
      ]
     },
     "metadata": {},
     "output_type": "display_data"
    },
    {
     "data": {
      "text/html": [
       "<pre style=\"white-space:pre;overflow-x:auto;line-height:normal;font-family:Menlo,'DejaVu Sans Mono',consolas,'Courier New',monospace\"><span style=\"font-weight: bold\"> Non-trainable params: </span><span style=\"color: #00af00; text-decoration-color: #00af00\">192</span> (768.00 B)\n",
       "</pre>\n"
      ],
      "text/plain": [
       "\u001b[1m Non-trainable params: \u001b[0m\u001b[38;5;34m192\u001b[0m (768.00 B)\n"
      ]
     },
     "metadata": {},
     "output_type": "display_data"
    }
   ],
   "source": [
    "model.summary()"
   ]
  },
  {
   "cell_type": "code",
   "execution_count": null,
   "metadata": {},
   "outputs": [],
   "source": []
  },
  {
   "cell_type": "code",
   "execution_count": 125,
   "metadata": {},
   "outputs": [
    {
     "name": "stdout",
     "output_type": "stream",
     "text": [
      "5\n"
     ]
    }
   ],
   "source": [
    "print(len(np.unique(y_train)))"
   ]
  },
  {
   "cell_type": "code",
   "execution_count": 126,
   "metadata": {},
   "outputs": [
    {
     "name": "stdout",
     "output_type": "stream",
     "text": [
      "5\n"
     ]
    }
   ],
   "source": [
    "print(len(np.unique(y_train)))"
   ]
  },
  {
   "cell_type": "code",
   "execution_count": 129,
   "metadata": {},
   "outputs": [
    {
     "name": "stderr",
     "output_type": "stream",
     "text": [
      "c:\\Program Files\\Python312\\Lib\\site-packages\\keras\\src\\layers\\convolutional\\base_conv.py:99: UserWarning: Do not pass an `input_shape`/`input_dim` argument to a layer. When using Sequential models, prefer using an `Input(shape)` object as the first layer in the model instead.\n",
      "  super().__init__(\n"
     ]
    }
   ],
   "source": [
    "from keras import regularizers\n",
    "\n",
    "# Model architecture\n",
    "model = Sequential()\n",
    "model.add(Conv1D(filters=32, kernel_size=5, activation='relu', input_shape=(X_train_reshaped.shape[1], X_train_reshaped.shape[2]), kernel_regularizer=regularizers.l1_l2(l1=1e-5, l2=1e-4)))\n",
    "model.add(BatchNormalization())\n",
    "model.add(MaxPooling1D(pool_size=2))\n",
    "model.add(Conv1D(filters=64, kernel_size=3, activation='relu', kernel_regularizer=regularizers.l1_l2(l1=1e-5, l2=1e-4)))\n",
    "model.add(BatchNormalization())\n",
    "model.add(MaxPooling1D(pool_size=2))\n",
    "model.add(Flatten())\n",
    "model.add(Dense(128, activation='relu', kernel_regularizer=regularizers.l1_l2(l1=1e-5, l2=1e-4)))\n",
    "model.add(Dropout(0.7))\n",
    "model.add(Dense(len(np.unique(y_train)), activation='softmax', kernel_regularizer=regularizers.l1_l2(l1=1e-5, l2=1e-4)))"
   ]
  },
  {
   "cell_type": "code",
   "execution_count": 130,
   "metadata": {},
   "outputs": [
    {
     "name": "stdout",
     "output_type": "stream",
     "text": [
      "Epoch 1/20\n",
      "\u001b[1m125/125\u001b[0m \u001b[32m━━━━━━━━━━━━━━━━━━━━\u001b[0m\u001b[37m\u001b[0m \u001b[1m60s\u001b[0m 416ms/step - accuracy: 0.2364 - loss: 4.5677 - val_accuracy: 0.2230 - val_loss: 3.9713 - learning_rate: 1.0000e-04\n",
      "Epoch 2/20\n",
      "\u001b[1m125/125\u001b[0m \u001b[32m━━━━━━━━━━━━━━━━━━━━\u001b[0m\u001b[37m\u001b[0m \u001b[1m51s\u001b[0m 404ms/step - accuracy: 0.4309 - loss: 2.9646 - val_accuracy: 0.2450 - val_loss: 6.8186 - learning_rate: 1.0000e-04\n",
      "Epoch 3/20\n",
      "\u001b[1m125/125\u001b[0m \u001b[32m━━━━━━━━━━━━━━━━━━━━\u001b[0m\u001b[37m\u001b[0m \u001b[1m52s\u001b[0m 412ms/step - accuracy: 0.5225 - loss: 2.0574 - val_accuracy: 0.2810 - val_loss: 5.3512 - learning_rate: 1.0000e-04\n",
      "Epoch 4/20\n",
      "\u001b[1m125/125\u001b[0m \u001b[32m━━━━━━━━━━━━━━━━━━━━\u001b[0m\u001b[37m\u001b[0m \u001b[1m53s\u001b[0m 426ms/step - accuracy: 0.5818 - loss: 1.7225 - val_accuracy: 0.3340 - val_loss: 3.9937 - learning_rate: 1.0000e-04\n",
      "Epoch 5/20\n",
      "\u001b[1m125/125\u001b[0m \u001b[32m━━━━━━━━━━━━━━━━━━━━\u001b[0m\u001b[37m\u001b[0m \u001b[1m50s\u001b[0m 399ms/step - accuracy: 0.6367 - loss: 1.5491 - val_accuracy: 0.3600 - val_loss: 2.9510 - learning_rate: 1.0000e-04\n",
      "Epoch 6/20\n",
      "\u001b[1m125/125\u001b[0m \u001b[32m━━━━━━━━━━━━━━━━━━━━\u001b[0m\u001b[37m\u001b[0m \u001b[1m50s\u001b[0m 400ms/step - accuracy: 0.6718 - loss: 1.4128 - val_accuracy: 0.3860 - val_loss: 2.5592 - learning_rate: 1.0000e-04\n",
      "Epoch 7/20\n",
      "\u001b[1m125/125\u001b[0m \u001b[32m━━━━━━━━━━━━━━━━━━━━\u001b[0m\u001b[37m\u001b[0m \u001b[1m51s\u001b[0m 411ms/step - accuracy: 0.6957 - loss: 1.3185 - val_accuracy: 0.3810 - val_loss: 2.4557 - learning_rate: 1.0000e-04\n",
      "Epoch 8/20\n",
      "\u001b[1m125/125\u001b[0m \u001b[32m━━━━━━━━━━━━━━━━━━━━\u001b[0m\u001b[37m\u001b[0m \u001b[1m53s\u001b[0m 421ms/step - accuracy: 0.7274 - loss: 1.2368 - val_accuracy: 0.3740 - val_loss: 2.4488 - learning_rate: 1.0000e-04\n",
      "Epoch 9/20\n",
      "\u001b[1m125/125\u001b[0m \u001b[32m━━━━━━━━━━━━━━━━━━━━\u001b[0m\u001b[37m\u001b[0m \u001b[1m55s\u001b[0m 440ms/step - accuracy: 0.7378 - loss: 1.1692 - val_accuracy: 0.3860 - val_loss: 2.5113 - learning_rate: 1.0000e-04\n",
      "Epoch 10/20\n",
      "\u001b[1m125/125\u001b[0m \u001b[32m━━━━━━━━━━━━━━━━━━━━\u001b[0m\u001b[37m\u001b[0m \u001b[1m57s\u001b[0m 454ms/step - accuracy: 0.7506 - loss: 1.1584 - val_accuracy: 0.3780 - val_loss: 2.5382 - learning_rate: 1.0000e-04\n",
      "Epoch 11/20\n",
      "\u001b[1m125/125\u001b[0m \u001b[32m━━━━━━━━━━━━━━━━━━━━\u001b[0m\u001b[37m\u001b[0m \u001b[1m55s\u001b[0m 440ms/step - accuracy: 0.7779 - loss: 1.0608 - val_accuracy: 0.3970 - val_loss: 2.4981 - learning_rate: 1.0000e-04\n",
      "Epoch 12/20\n",
      "\u001b[1m125/125\u001b[0m \u001b[32m━━━━━━━━━━━━━━━━━━━━\u001b[0m\u001b[37m\u001b[0m \u001b[1m56s\u001b[0m 449ms/step - accuracy: 0.7880 - loss: 1.0614 - val_accuracy: 0.3880 - val_loss: 2.6252 - learning_rate: 1.0000e-04\n",
      "Epoch 13/20\n",
      "\u001b[1m125/125\u001b[0m \u001b[32m━━━━━━━━━━━━━━━━━━━━\u001b[0m\u001b[37m\u001b[0m \u001b[1m64s\u001b[0m 511ms/step - accuracy: 0.7904 - loss: 1.0632 - val_accuracy: 0.3980 - val_loss: 2.5503 - learning_rate: 1.0000e-04\n",
      "Epoch 14/20\n",
      "\u001b[1m125/125\u001b[0m \u001b[32m━━━━━━━━━━━━━━━━━━━━\u001b[0m\u001b[37m\u001b[0m \u001b[1m61s\u001b[0m 491ms/step - accuracy: 0.8199 - loss: 0.9900 - val_accuracy: 0.3930 - val_loss: 2.5347 - learning_rate: 1.0000e-05\n",
      "Epoch 15/20\n",
      "\u001b[1m125/125\u001b[0m \u001b[32m━━━━━━━━━━━━━━━━━━━━\u001b[0m\u001b[37m\u001b[0m \u001b[1m58s\u001b[0m 467ms/step - accuracy: 0.8098 - loss: 0.9955 - val_accuracy: 0.3970 - val_loss: 2.5286 - learning_rate: 1.0000e-05\n",
      "Epoch 16/20\n",
      "\u001b[1m125/125\u001b[0m \u001b[32m━━━━━━━━━━━━━━━━━━━━\u001b[0m\u001b[37m\u001b[0m \u001b[1m63s\u001b[0m 500ms/step - accuracy: 0.8267 - loss: 0.9600 - val_accuracy: 0.3960 - val_loss: 2.5184 - learning_rate: 1.0000e-05\n",
      "Epoch 17/20\n",
      "\u001b[1m125/125\u001b[0m \u001b[32m━━━━━━━━━━━━━━━━━━━━\u001b[0m\u001b[37m\u001b[0m \u001b[1m59s\u001b[0m 468ms/step - accuracy: 0.8247 - loss: 0.9407 - val_accuracy: 0.3960 - val_loss: 2.5431 - learning_rate: 1.0000e-05\n",
      "Epoch 18/20\n",
      "\u001b[1m125/125\u001b[0m \u001b[32m━━━━━━━━━━━━━━━━━━━━\u001b[0m\u001b[37m\u001b[0m \u001b[1m59s\u001b[0m 471ms/step - accuracy: 0.8280 - loss: 0.9163 - val_accuracy: 0.3990 - val_loss: 2.5554 - learning_rate: 1.0000e-05\n",
      "Epoch 19/20\n",
      "\u001b[1m125/125\u001b[0m \u001b[32m━━━━━━━━━━━━━━━━━━━━\u001b[0m\u001b[37m\u001b[0m \u001b[1m60s\u001b[0m 476ms/step - accuracy: 0.8471 - loss: 0.8891 - val_accuracy: 0.3990 - val_loss: 2.5312 - learning_rate: 1.0000e-05\n",
      "Epoch 20/20\n",
      "\u001b[1m125/125\u001b[0m \u001b[32m━━━━━━━━━━━━━━━━━━━━\u001b[0m\u001b[37m\u001b[0m \u001b[1m66s\u001b[0m 526ms/step - accuracy: 0.8394 - loss: 0.9026 - val_accuracy: 0.3990 - val_loss: 2.5649 - learning_rate: 1.0000e-05\n",
      "\u001b[1m32/32\u001b[0m \u001b[32m━━━━━━━━━━━━━━━━━━━━\u001b[0m\u001b[37m\u001b[0m \u001b[1m4s\u001b[0m 113ms/step - accuracy: 0.3941 - loss: 2.6535\n",
      "Test Accuracy: 0.39899998903274536\n",
      "\u001b[1m32/32\u001b[0m \u001b[32m━━━━━━━━━━━━━━━━━━━━\u001b[0m\u001b[37m\u001b[0m \u001b[1m3s\u001b[0m 95ms/step\n",
      "              precision    recall  f1-score   support\n",
      "\n",
      "           0       0.44      0.34      0.38       196\n",
      "           1       0.51      0.45      0.48       224\n",
      "           2       0.25      0.29      0.27       186\n",
      "           3       0.46      0.60      0.52       202\n",
      "           4       0.32      0.30      0.31       192\n",
      "\n",
      "    accuracy                           0.40      1000\n",
      "   macro avg       0.40      0.39      0.39      1000\n",
      "weighted avg       0.40      0.40      0.40      1000\n",
      "\n"
     ]
    }
   ],
   "source": [
    "\n",
    "\n",
    "# Compile the model with a lower learning rate and Adam optimizer\n",
    "optimizer = Adam(learning_rate=0.0001)\n",
    "model.compile(loss='sparse_categorical_crossentropy', optimizer=optimizer, metrics=['accuracy'])\n",
    "\n",
    "# Learning rate scheduler\n",
    "reduce_lr = ReduceLROnPlateau(monitor='val_loss', factor=0.1, patience=5, min_lr=0.00001)\n",
    "\n",
    "# Train the model\n",
    "history = model.fit(X_train_reshaped, y_train, epochs=20, batch_size=32,\n",
    "                    validation_data=(X_test_reshaped, y_test), callbacks=[reduce_lr])\n",
    "\n",
    "# Model evaluation\n",
    "accuracy = model.evaluate(X_test_reshaped, y_test)[1]\n",
    "print(f\"Test Accuracy: {accuracy}\")\n",
    "\n",
    "# Additional evaluation metrics\n",
    "y_pred = model.predict(X_test_reshaped)\n",
    "y_pred_classes = np.argmax(y_pred, axis=1)\n",
    "print(classification_report(y_test, y_pred_classes))"
   ]
  },
  {
   "cell_type": "code",
   "execution_count": 131,
   "metadata": {},
   "outputs": [
    {
     "data": {
      "text/html": [
       "<pre style=\"white-space:pre;overflow-x:auto;line-height:normal;font-family:Menlo,'DejaVu Sans Mono',consolas,'Courier New',monospace\"><span style=\"font-weight: bold\">Model: \"sequential_10\"</span>\n",
       "</pre>\n"
      ],
      "text/plain": [
       "\u001b[1mModel: \"sequential_10\"\u001b[0m\n"
      ]
     },
     "metadata": {},
     "output_type": "display_data"
    },
    {
     "data": {
      "text/html": [
       "<pre style=\"white-space:pre;overflow-x:auto;line-height:normal;font-family:Menlo,'DejaVu Sans Mono',consolas,'Courier New',monospace\">┏━━━━━━━━━━━━━━━━━━━━━━━━━━━━━━━━━┳━━━━━━━━━━━━━━━━━━━━━━━━┳━━━━━━━━━━━━━━━┓\n",
       "┃<span style=\"font-weight: bold\"> Layer (type)                    </span>┃<span style=\"font-weight: bold\"> Output Shape           </span>┃<span style=\"font-weight: bold\">       Param # </span>┃\n",
       "┡━━━━━━━━━━━━━━━━━━━━━━━━━━━━━━━━━╇━━━━━━━━━━━━━━━━━━━━━━━━╇━━━━━━━━━━━━━━━┩\n",
       "│ conv1d_20 (<span style=\"color: #0087ff; text-decoration-color: #0087ff\">Conv1D</span>)              │ (<span style=\"color: #00d7ff; text-decoration-color: #00d7ff\">None</span>, <span style=\"color: #00af00; text-decoration-color: #00af00\">4996</span>, <span style=\"color: #00af00; text-decoration-color: #00af00\">32</span>)       │         <span style=\"color: #00af00; text-decoration-color: #00af00\">1,952</span> │\n",
       "├─────────────────────────────────┼────────────────────────┼───────────────┤\n",
       "│ batch_normalization_20          │ (<span style=\"color: #00d7ff; text-decoration-color: #00d7ff\">None</span>, <span style=\"color: #00af00; text-decoration-color: #00af00\">4996</span>, <span style=\"color: #00af00; text-decoration-color: #00af00\">32</span>)       │           <span style=\"color: #00af00; text-decoration-color: #00af00\">128</span> │\n",
       "│ (<span style=\"color: #0087ff; text-decoration-color: #0087ff\">BatchNormalization</span>)            │                        │               │\n",
       "├─────────────────────────────────┼────────────────────────┼───────────────┤\n",
       "│ max_pooling1d_20 (<span style=\"color: #0087ff; text-decoration-color: #0087ff\">MaxPooling1D</span>) │ (<span style=\"color: #00d7ff; text-decoration-color: #00d7ff\">None</span>, <span style=\"color: #00af00; text-decoration-color: #00af00\">2498</span>, <span style=\"color: #00af00; text-decoration-color: #00af00\">32</span>)       │             <span style=\"color: #00af00; text-decoration-color: #00af00\">0</span> │\n",
       "├─────────────────────────────────┼────────────────────────┼───────────────┤\n",
       "│ conv1d_21 (<span style=\"color: #0087ff; text-decoration-color: #0087ff\">Conv1D</span>)              │ (<span style=\"color: #00d7ff; text-decoration-color: #00d7ff\">None</span>, <span style=\"color: #00af00; text-decoration-color: #00af00\">2496</span>, <span style=\"color: #00af00; text-decoration-color: #00af00\">64</span>)       │         <span style=\"color: #00af00; text-decoration-color: #00af00\">6,208</span> │\n",
       "├─────────────────────────────────┼────────────────────────┼───────────────┤\n",
       "│ batch_normalization_21          │ (<span style=\"color: #00d7ff; text-decoration-color: #00d7ff\">None</span>, <span style=\"color: #00af00; text-decoration-color: #00af00\">2496</span>, <span style=\"color: #00af00; text-decoration-color: #00af00\">64</span>)       │           <span style=\"color: #00af00; text-decoration-color: #00af00\">256</span> │\n",
       "│ (<span style=\"color: #0087ff; text-decoration-color: #0087ff\">BatchNormalization</span>)            │                        │               │\n",
       "├─────────────────────────────────┼────────────────────────┼───────────────┤\n",
       "│ max_pooling1d_21 (<span style=\"color: #0087ff; text-decoration-color: #0087ff\">MaxPooling1D</span>) │ (<span style=\"color: #00d7ff; text-decoration-color: #00d7ff\">None</span>, <span style=\"color: #00af00; text-decoration-color: #00af00\">1248</span>, <span style=\"color: #00af00; text-decoration-color: #00af00\">64</span>)       │             <span style=\"color: #00af00; text-decoration-color: #00af00\">0</span> │\n",
       "├─────────────────────────────────┼────────────────────────┼───────────────┤\n",
       "│ flatten_10 (<span style=\"color: #0087ff; text-decoration-color: #0087ff\">Flatten</span>)            │ (<span style=\"color: #00d7ff; text-decoration-color: #00d7ff\">None</span>, <span style=\"color: #00af00; text-decoration-color: #00af00\">79872</span>)          │             <span style=\"color: #00af00; text-decoration-color: #00af00\">0</span> │\n",
       "├─────────────────────────────────┼────────────────────────┼───────────────┤\n",
       "│ dense_20 (<span style=\"color: #0087ff; text-decoration-color: #0087ff\">Dense</span>)                │ (<span style=\"color: #00d7ff; text-decoration-color: #00d7ff\">None</span>, <span style=\"color: #00af00; text-decoration-color: #00af00\">128</span>)            │    <span style=\"color: #00af00; text-decoration-color: #00af00\">10,223,744</span> │\n",
       "├─────────────────────────────────┼────────────────────────┼───────────────┤\n",
       "│ dropout_10 (<span style=\"color: #0087ff; text-decoration-color: #0087ff\">Dropout</span>)            │ (<span style=\"color: #00d7ff; text-decoration-color: #00d7ff\">None</span>, <span style=\"color: #00af00; text-decoration-color: #00af00\">128</span>)            │             <span style=\"color: #00af00; text-decoration-color: #00af00\">0</span> │\n",
       "├─────────────────────────────────┼────────────────────────┼───────────────┤\n",
       "│ dense_21 (<span style=\"color: #0087ff; text-decoration-color: #0087ff\">Dense</span>)                │ (<span style=\"color: #00d7ff; text-decoration-color: #00d7ff\">None</span>, <span style=\"color: #00af00; text-decoration-color: #00af00\">5</span>)              │           <span style=\"color: #00af00; text-decoration-color: #00af00\">645</span> │\n",
       "└─────────────────────────────────┴────────────────────────┴───────────────┘\n",
       "</pre>\n"
      ],
      "text/plain": [
       "┏━━━━━━━━━━━━━━━━━━━━━━━━━━━━━━━━━┳━━━━━━━━━━━━━━━━━━━━━━━━┳━━━━━━━━━━━━━━━┓\n",
       "┃\u001b[1m \u001b[0m\u001b[1mLayer (type)                   \u001b[0m\u001b[1m \u001b[0m┃\u001b[1m \u001b[0m\u001b[1mOutput Shape          \u001b[0m\u001b[1m \u001b[0m┃\u001b[1m \u001b[0m\u001b[1m      Param #\u001b[0m\u001b[1m \u001b[0m┃\n",
       "┡━━━━━━━━━━━━━━━━━━━━━━━━━━━━━━━━━╇━━━━━━━━━━━━━━━━━━━━━━━━╇━━━━━━━━━━━━━━━┩\n",
       "│ conv1d_20 (\u001b[38;5;33mConv1D\u001b[0m)              │ (\u001b[38;5;45mNone\u001b[0m, \u001b[38;5;34m4996\u001b[0m, \u001b[38;5;34m32\u001b[0m)       │         \u001b[38;5;34m1,952\u001b[0m │\n",
       "├─────────────────────────────────┼────────────────────────┼───────────────┤\n",
       "│ batch_normalization_20          │ (\u001b[38;5;45mNone\u001b[0m, \u001b[38;5;34m4996\u001b[0m, \u001b[38;5;34m32\u001b[0m)       │           \u001b[38;5;34m128\u001b[0m │\n",
       "│ (\u001b[38;5;33mBatchNormalization\u001b[0m)            │                        │               │\n",
       "├─────────────────────────────────┼────────────────────────┼───────────────┤\n",
       "│ max_pooling1d_20 (\u001b[38;5;33mMaxPooling1D\u001b[0m) │ (\u001b[38;5;45mNone\u001b[0m, \u001b[38;5;34m2498\u001b[0m, \u001b[38;5;34m32\u001b[0m)       │             \u001b[38;5;34m0\u001b[0m │\n",
       "├─────────────────────────────────┼────────────────────────┼───────────────┤\n",
       "│ conv1d_21 (\u001b[38;5;33mConv1D\u001b[0m)              │ (\u001b[38;5;45mNone\u001b[0m, \u001b[38;5;34m2496\u001b[0m, \u001b[38;5;34m64\u001b[0m)       │         \u001b[38;5;34m6,208\u001b[0m │\n",
       "├─────────────────────────────────┼────────────────────────┼───────────────┤\n",
       "│ batch_normalization_21          │ (\u001b[38;5;45mNone\u001b[0m, \u001b[38;5;34m2496\u001b[0m, \u001b[38;5;34m64\u001b[0m)       │           \u001b[38;5;34m256\u001b[0m │\n",
       "│ (\u001b[38;5;33mBatchNormalization\u001b[0m)            │                        │               │\n",
       "├─────────────────────────────────┼────────────────────────┼───────────────┤\n",
       "│ max_pooling1d_21 (\u001b[38;5;33mMaxPooling1D\u001b[0m) │ (\u001b[38;5;45mNone\u001b[0m, \u001b[38;5;34m1248\u001b[0m, \u001b[38;5;34m64\u001b[0m)       │             \u001b[38;5;34m0\u001b[0m │\n",
       "├─────────────────────────────────┼────────────────────────┼───────────────┤\n",
       "│ flatten_10 (\u001b[38;5;33mFlatten\u001b[0m)            │ (\u001b[38;5;45mNone\u001b[0m, \u001b[38;5;34m79872\u001b[0m)          │             \u001b[38;5;34m0\u001b[0m │\n",
       "├─────────────────────────────────┼────────────────────────┼───────────────┤\n",
       "│ dense_20 (\u001b[38;5;33mDense\u001b[0m)                │ (\u001b[38;5;45mNone\u001b[0m, \u001b[38;5;34m128\u001b[0m)            │    \u001b[38;5;34m10,223,744\u001b[0m │\n",
       "├─────────────────────────────────┼────────────────────────┼───────────────┤\n",
       "│ dropout_10 (\u001b[38;5;33mDropout\u001b[0m)            │ (\u001b[38;5;45mNone\u001b[0m, \u001b[38;5;34m128\u001b[0m)            │             \u001b[38;5;34m0\u001b[0m │\n",
       "├─────────────────────────────────┼────────────────────────┼───────────────┤\n",
       "│ dense_21 (\u001b[38;5;33mDense\u001b[0m)                │ (\u001b[38;5;45mNone\u001b[0m, \u001b[38;5;34m5\u001b[0m)              │           \u001b[38;5;34m645\u001b[0m │\n",
       "└─────────────────────────────────┴────────────────────────┴───────────────┘\n"
      ]
     },
     "metadata": {},
     "output_type": "display_data"
    },
    {
     "data": {
      "text/html": [
       "<pre style=\"white-space:pre;overflow-x:auto;line-height:normal;font-family:Menlo,'DejaVu Sans Mono',consolas,'Courier New',monospace\"><span style=\"font-weight: bold\"> Total params: </span><span style=\"color: #00af00; text-decoration-color: #00af00\">30,698,417</span> (117.11 MB)\n",
       "</pre>\n"
      ],
      "text/plain": [
       "\u001b[1m Total params: \u001b[0m\u001b[38;5;34m30,698,417\u001b[0m (117.11 MB)\n"
      ]
     },
     "metadata": {},
     "output_type": "display_data"
    },
    {
     "data": {
      "text/html": [
       "<pre style=\"white-space:pre;overflow-x:auto;line-height:normal;font-family:Menlo,'DejaVu Sans Mono',consolas,'Courier New',monospace\"><span style=\"font-weight: bold\"> Trainable params: </span><span style=\"color: #00af00; text-decoration-color: #00af00\">10,232,741</span> (39.03 MB)\n",
       "</pre>\n"
      ],
      "text/plain": [
       "\u001b[1m Trainable params: \u001b[0m\u001b[38;5;34m10,232,741\u001b[0m (39.03 MB)\n"
      ]
     },
     "metadata": {},
     "output_type": "display_data"
    },
    {
     "data": {
      "text/html": [
       "<pre style=\"white-space:pre;overflow-x:auto;line-height:normal;font-family:Menlo,'DejaVu Sans Mono',consolas,'Courier New',monospace\"><span style=\"font-weight: bold\"> Non-trainable params: </span><span style=\"color: #00af00; text-decoration-color: #00af00\">192</span> (768.00 B)\n",
       "</pre>\n"
      ],
      "text/plain": [
       "\u001b[1m Non-trainable params: \u001b[0m\u001b[38;5;34m192\u001b[0m (768.00 B)\n"
      ]
     },
     "metadata": {},
     "output_type": "display_data"
    },
    {
     "data": {
      "text/html": [
       "<pre style=\"white-space:pre;overflow-x:auto;line-height:normal;font-family:Menlo,'DejaVu Sans Mono',consolas,'Courier New',monospace\"><span style=\"font-weight: bold\"> Optimizer params: </span><span style=\"color: #00af00; text-decoration-color: #00af00\">20,465,484</span> (78.07 MB)\n",
       "</pre>\n"
      ],
      "text/plain": [
       "\u001b[1m Optimizer params: \u001b[0m\u001b[38;5;34m20,465,484\u001b[0m (78.07 MB)\n"
      ]
     },
     "metadata": {},
     "output_type": "display_data"
    }
   ],
   "source": [
    "model.summary()"
   ]
  }
 ],
 "metadata": {
  "kernelspec": {
   "display_name": "Python 3",
   "language": "python",
   "name": "python3"
  },
  "language_info": {
   "codemirror_mode": {
    "name": "ipython",
    "version": 3
   },
   "file_extension": ".py",
   "mimetype": "text/x-python",
   "name": "python",
   "nbconvert_exporter": "python",
   "pygments_lexer": "ipython3",
   "version": "3.12.1"
  }
 },
 "nbformat": 4,
 "nbformat_minor": 2
}
